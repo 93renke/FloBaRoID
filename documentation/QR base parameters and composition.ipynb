{
 "cells": [
  {
   "cell_type": "markdown",
   "metadata": {},
   "source": [
    "# Base parameters and combinations with QR"
   ]
  },
  {
   "cell_type": "markdown",
   "metadata": {},
   "source": [
    "In the following, the QR decomposition is used to find columns in a matrix (e.g. dynamics regressor) that are independent and therefore are a choice of a basis for the identifiable subspace. It is then determined which linear combinations of the other dependent columns are forming the base columns/parameters in each of those. This is also necessary for the std essential parameters."
   ]
  },
  {
   "cell_type": "code",
   "execution_count": 48,
   "metadata": {
    "collapsed": false
   },
   "outputs": [],
   "source": [
    "import numpy as np; np.set_printoptions(formatter={'float': '{: 0.3f}'.format})"
   ]
  },
  {
   "cell_type": "code",
   "execution_count": 259,
   "metadata": {
    "collapsed": false
   },
   "outputs": [
    {
     "name": "stdout",
     "output_type": "stream",
     "text": [
      "(6, 5)\n"
     ]
    },
    {
     "data": {
      "text/plain": [
       "3"
      ]
     },
     "execution_count": 259,
     "metadata": {},
     "output_type": "execute_result"
    }
   ],
   "source": [
    "a = np.array([[1.0, 2.0,  .0,  .0, 2.0],\n",
    "              [1.0, 2.0,  .0,  .0, 1.0],\n",
    "              [ .0,  .0, 1.0, 5.0,  .0],\n",
    "              [ .0,  .0, 1.0, 5.0,  .0],\n",
    "              [2.0, 4.0,  .0,  .0,  .0],\n",
    "              [ .0,  .0, 0.5, 2.5,  .0]])\n",
    "print(a.shape)\n",
    "r = np.linalg.matrix_rank(a)\n",
    "r"
   ]
  },
  {
   "cell_type": "markdown",
   "metadata": {},
   "source": [
    "Test Matrix $a$ is rank deficient (rank $r<m$). The rank 3 means there are 3 sets of dependent columns, each with 1 or more columns in it. The columns $0,1$ and $2,3$ are linearly dependent. Column 4 is linearly independent from all other columns. Finding independent columns will give a single representant of each set, while the choice is non-unique if any set has more than one element. If a column is independent, there can be other columns that are dependent on it but it can also be a single element in its set.\n",
    "\n",
    "$$a\\cdot x = t$$"
   ]
  },
  {
   "cell_type": "code",
   "execution_count": 291,
   "metadata": {
    "collapsed": false
   },
   "outputs": [
    {
     "data": {
      "text/plain": [
       "array([ 14.000,  9.500,  21.798,  21.798,  10.000,  10.899])"
      ]
     },
     "execution_count": 291,
     "metadata": {},
     "output_type": "execute_result"
    }
   ],
   "source": [
    "x = np.array([1.0,2.0,0.838,4.192,4.5])  #param\n",
    "t = a.dot(x)                         #result\n",
    "t"
   ]
  },
  {
   "cell_type": "markdown",
   "metadata": {},
   "source": [
    "## Sets of dependent columns\n",
    "\n",
    "Assuming $m \\times n$ Matrix $a$ with $m>=n$."
   ]
  },
  {
   "cell_type": "code",
   "execution_count": 292,
   "metadata": {
    "collapsed": false,
    "scrolled": true
   },
   "outputs": [
    {
     "name": "stdout",
     "output_type": "stream",
     "text": [
      "[-7.500 -4.899  1.871 -0.000 -0.000]\n",
      "[3 1 4 0 2]\n",
      "\n",
      "[-2.449  0.000 -1.500  0.000 -0.894]\n"
     ]
    }
   ],
   "source": [
    "import scipy.linalg as sla\n",
    "Qp,Rp,P = sla.qr(a, pivoting=True, check_finite=True)\n",
    "print(Rp.diagonal())\n",
    "print(P)\n",
    "print()\n",
    "Q,R = np.linalg.qr(a, mode='complete')\n",
    "print(R.diagonal())"
   ]
  },
  {
   "cell_type": "markdown",
   "metadata": {},
   "source": [
    "Find selection of columns that are linearly independent to each other. For non-pivoting QR, the columns in R with diagonal elements that are not zero are independent. For pivoting QR this does not work. However, as there are as many independent columns as the rank of the matrix, taking the first rank columns of the permutation also gives the independent column indices but in different order. The choices are not the same but from the same sets of dependent columns."
   ]
  },
  {
   "cell_type": "code",
   "execution_count": 293,
   "metadata": {
    "collapsed": false
   },
   "outputs": [
    {
     "name": "stdout",
     "output_type": "stream",
     "text": [
      "[-2.449  0.000 -1.500  0.000 -0.894]\n",
      "[0 2 4]\n",
      "rank: 3\n",
      "[3 1 4]\n"
     ]
    }
   ],
   "source": [
    "tol = 1e-6\n",
    "print(R.diagonal())\n",
    "indepsQR = np.where(np.abs(R.diagonal()) > tol)[0]\n",
    "print(indepsQR)\n",
    "\n",
    "print(\"rank: {}\".format(np.where(np.abs(Rp.diagonal()) > tol)[0].size ))   #rank with pivoting QR\n",
    "indepsQRP = P[0:r]\n",
    "print(indepsQRP)\n"
   ]
  },
  {
   "cell_type": "code",
   "execution_count": 294,
   "metadata": {
    "collapsed": false
   },
   "outputs": [],
   "source": [
    "#create proper permutation matrix\n",
    "Pp = np.zeros((P.size, P.size))\n",
    "for i in P:\n",
    "    Pp[i,P[i]]=1"
   ]
  },
  {
   "cell_type": "code",
   "execution_count": 295,
   "metadata": {
    "collapsed": false
   },
   "outputs": [
    {
     "name": "stdout",
     "output_type": "stream",
     "text": [
      "[[ 0.000  0.200]\n",
      " [ 0.500  0.000]\n",
      " [ 0.000 -0.000]]\n"
     ]
    }
   ],
   "source": [
    "#Gautier 1990, 3-4: linear relationships\n",
    "#W1W2 = a.dot(Pp)\n",
    "#W1 = W1W2[:,0:indeps.size]\n",
    "#W2 = W1W2[:,indeps.size:a.shape[1]]\n",
    "#Q,R = np.linalg.qr(W1W2)\n",
    "#print(Q)\n",
    "#print(R.diagonal())\n",
    "#corresponds to QR with pivoting\n",
    "#print(Qp)\n",
    "#print(Rp.diagonal())\n",
    "\n",
    "#dependent columns W1 as linear combinations of independent columns W1\n",
    "R1 = Rp[0:indepsQRP.size,0:indepsQRP.size]\n",
    "R2 = Rp[0:indepsQRP.size,indepsQRP.size:]\n",
    "linDeps = np.linalg.inv(R1).dot(R2)\n",
    "print(linDeps)"
   ]
  },
  {
   "cell_type": "code",
   "execution_count": 296,
   "metadata": {
    "collapsed": false
   },
   "outputs": [
    {
     "name": "stdout",
     "output_type": "stream",
     "text": [
      "[3 1 4 0 2]\n",
      "col 0 in W2(col 0 in a) is a linear combination of col 1 in W1 (col 1 in a) with factor 0.2\n",
      "col 1 in W2(col 2 in a) is a linear combination of col 0 in W1 (col 3 in a) with factor 0.5000000000000002\n"
     ]
    }
   ],
   "source": [
    "print(P)\n",
    "for i in range(0,linDeps.shape[0]):\n",
    "    for j in range(0,linDeps.shape[1]):\n",
    "        if np.abs(linDeps[i,j]) > 0.01:\n",
    "            dep_org_col = P[indepsQRP.size+i]\n",
    "            indep_org_col = P[j]\n",
    "\n",
    "            print(\n",
    "                '''col {} in W2(col {} in a) is a linear combination of col {} in W1 (col {} in a) with factor {}'''\\\n",
    "                   .format(i, dep_org_col, j, indep_org_col, linDeps[i,j]))"
   ]
  },
  {
   "cell_type": "markdown",
   "metadata": {},
   "source": [
    "## Getting the base projection matrix\n",
    "\n",
    "The first $r$ orthogonal columns of $Q$ form a basis $B$ of the column space of $A$ in case a is a square matrix. In the rectangular case, the QR decomposition of $A^T$ seems to be possible but maybe not always solvable?. \n",
    "$B$ can be used to project the matrix $A$ with regard to a vector $v$ to a matrix $A_\\text{base}$ with regard to a vector $v_\\text{base}$."
   ]
  },
  {
   "cell_type": "code",
   "execution_count": 305,
   "metadata": {
    "collapsed": false
   },
   "outputs": [
    {
     "name": "stdout",
     "output_type": "stream",
     "text": [
      "[[ 0.000 -0.447 -0.000  0.894  0.000]\n",
      " [-0.000 -0.894  0.000 -0.447 -0.000]\n",
      " [-0.196 -0.000 -0.000  0.000 -0.981]\n",
      " [-0.981 -0.000  0.000  0.000  0.196]\n",
      " [-0.000 -0.000 -1.000  0.000  0.000]]\n",
      "[[-0.000  0.447  0.000]\n",
      " [ 0.000  0.894 -0.000]\n",
      " [ 0.196  0.000  0.000]\n",
      " [ 0.981  0.000 -0.000]\n",
      " [ 0.000  0.000  1.000]]\n"
     ]
    }
   ],
   "source": [
    "Qpt,Rpt,Pt = sla.qr(a.T, pivoting=True, mode='economic')\n",
    "print(Qpt)\n",
    "B = -Qpt[:, 0:r]\n",
    "print(B)\n",
    "#B = sla.orth(a)[0:a.shape[1], :]\n",
    "#print(B)"
   ]
  },
  {
   "cell_type": "markdown",
   "metadata": {},
   "source": [
    "$Pp^T XB = [XB1 ; XB2] = [X1 + X1^{-1}R2 X2;0]$"
   ]
  },
  {
   "cell_type": "code",
   "execution_count": 298,
   "metadata": {
    "collapsed": false
   },
   "outputs": [
    {
     "name": "stdout",
     "output_type": "stream",
     "text": [
      "[3 1 4 0 2]\n",
      "x:\t [ 1.000  2.000  0.838  4.192  4.500]\n",
      "x1, x2:\t [ 4.192  2.000  4.500] [ 1.000  0.838]\n",
      "[ 4.360  2.500  4.500]\n"
     ]
    }
   ],
   "source": [
    "print(P)\n",
    "Px = Pp.dot(x)\n",
    "print('x:\\t', x)\n",
    "x1 = Px[0:r]\n",
    "x2 = Px[r:]\n",
    "print ('x1, x2:\\t', x1, x2)\n",
    "xb1 = x1 + np.linalg.inv(R1).dot(R2.dot(x2))\n",
    "print (xb1)"
   ]
  },
  {
   "cell_type": "code",
   "execution_count": 299,
   "metadata": {
    "collapsed": false
   },
   "outputs": [
    {
     "name": "stdout",
     "output_type": "stream",
     "text": [
      "x_base:\t [ 4.275  2.236  4.500]\n",
      "deps:\n",
      "3, \n",
      "1, \n",
      "4, \n",
      "t:\t [ 14.000  9.500  21.798  21.798  10.000  10.899]\n",
      "t_base:\t [ 14.000  9.500  21.798  21.798  10.000  10.899]\n",
      "x:\t [ 1.000  2.000  0.838  4.192  4.500]\n",
      "x*:\t [ 1.000  2.000  0.838  4.192  4.500]\n",
      "[[-0.000  0.000 -0.000 -0.000  0.000]\n",
      " [-0.000  0.000 -0.000 -0.000  0.000]\n",
      " [-0.000 -0.000 -0.000 -0.000  0.000]\n",
      " [-0.000 -0.000 -0.000 -0.000  0.000]\n",
      " [ 0.000  0.000 -0.000 -0.000  0.000]\n",
      " [-0.000 -0.000 -0.000 -0.000  0.000]]\n"
     ]
    }
   ],
   "source": [
    "a_base = a.dot(B)\n",
    "x_base = B.T.dot(x)\n",
    "print('x_base:\\t', x_base)\n",
    "print(\"deps:\")\n",
    "for i in range(0, len(x_base)):\n",
    "    print(\"{}, \".format(indepsQRP[i], deps[i]))\n",
    "t_base = a_base.dot(x_base)\n",
    "print('t:\\t', t)\n",
    "print('t_base:\\t', t_base)\n",
    "print('x:\\t', x)\n",
    "print ('x*:\\t', B.dot(x_base))    #should give same x as in standard space if x was fully in base space already\n",
    "\n",
    "# test nullspace\n",
    "print(a.dot(np.eye(5) - B.dot(B.T)))"
   ]
  },
  {
   "cell_type": "code",
   "execution_count": 300,
   "metadata": {
    "collapsed": false
   },
   "outputs": [
    {
     "name": "stdout",
     "output_type": "stream",
     "text": [
      "[[ 1.000  0.000  0.500]\n",
      " [ 0.000  0.250  0.000]\n",
      " [ 0.000  0.500  0.000]]\n"
     ]
    }
   ],
   "source": [
    "deps = np.linalg.inv(Rpt[0:r, 0:r]).dot(Rpt[0:r, r:])\n",
    "print(deps)"
   ]
  },
  {
   "cell_type": "markdown",
   "metadata": {
    "collapsed": true
   },
   "source": [
    "### Base Projection with SVD"
   ]
  },
  {
   "cell_type": "code",
   "execution_count": 307,
   "metadata": {
    "collapsed": false
   },
   "outputs": [
    {
     "name": "stdout",
     "output_type": "stream",
     "text": [
      "[[ 0.000 -0.472 -0.766  0.436  0.000]\n",
      " [ 0.000 -0.429 -0.233 -0.873  0.000]\n",
      " [-0.667  0.000  0.000  0.000  0.596]\n",
      " [-0.667  0.000  0.000  0.000 -0.745]\n",
      " [ 0.000 -0.771  0.599  0.218  0.000]\n",
      " [-0.333  0.000  0.000  0.000  0.298]]\n",
      "[[-0.000 -0.000 -0.196 -0.981  0.000]\n",
      " [-0.434 -0.867  0.000  0.000 -0.244]\n",
      " [ 0.109  0.218  0.000  0.000 -0.970]\n",
      " [-0.894  0.447  0.000  0.000 -0.000]\n",
      " [-0.000 -0.000 -0.981  0.196  0.000]]\n"
     ]
    },
    {
     "data": {
      "text/plain": [
       "3"
      ]
     },
     "execution_count": 307,
     "metadata": {},
     "output_type": "execute_result"
    }
   ],
   "source": [
    "U, s, Vh = sla.svd(a, full_matrices=False)\n",
    "print(U)\n",
    "print(Vh)\n",
    "np.sum(s>0.001)"
   ]
  },
  {
   "cell_type": "code",
   "execution_count": 302,
   "metadata": {
    "collapsed": false
   },
   "outputs": [
    {
     "data": {
      "text/plain": [
       "array([[-0.000,  0.447,  0.000],\n",
       "       [ 0.000,  0.894, -0.000],\n",
       "       [ 0.196,  0.000,  0.000],\n",
       "       [ 0.981,  0.000, -0.000],\n",
       "       [ 0.000,  0.000,  1.000]])"
      ]
     },
     "execution_count": 302,
     "metadata": {},
     "output_type": "execute_result"
    }
   ],
   "source": [
    "# QR base for comparison\n",
    "B"
   ]
  },
  {
   "cell_type": "code",
   "execution_count": 306,
   "metadata": {
    "collapsed": false
   },
   "outputs": [
    {
     "data": {
      "text/plain": [
       "array([[ 0.000,  0.434, -0.109],\n",
       "       [ 0.000,  0.867, -0.218],\n",
       "       [ 0.196, -0.000, -0.000],\n",
       "       [ 0.981, -0.000, -0.000],\n",
       "       [-0.000,  0.244,  0.970]])"
      ]
     },
     "execution_count": 306,
     "metadata": {},
     "output_type": "execute_result"
    }
   ],
   "source": [
    "B_svd = -Vh.T[:, 0:r]\n",
    "B = B_svd\n",
    "B"
   ]
  },
  {
   "cell_type": "code",
   "execution_count": null,
   "metadata": {
    "collapsed": true
   },
   "outputs": [],
   "source": []
  }
 ],
 "metadata": {
  "kernelspec": {
   "display_name": "Python 3",
   "language": "python",
   "name": "python3"
  },
  "language_info": {
   "codemirror_mode": {
    "name": "ipython",
    "version": 3
   },
   "file_extension": ".py",
   "mimetype": "text/x-python",
   "name": "python",
   "nbconvert_exporter": "python",
   "pygments_lexer": "ipython3",
   "version": "3.5.1"
  },
  "toc": {
   "toc_cell": false,
   "toc_number_sections": false,
   "toc_section_display": "none",
   "toc_threshold": 6,
   "toc_window_display": false
  }
 },
 "nbformat": 4,
 "nbformat_minor": 0
}
