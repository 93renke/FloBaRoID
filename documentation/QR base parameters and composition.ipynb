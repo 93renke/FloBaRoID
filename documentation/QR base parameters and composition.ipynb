{
 "cells": [
  {
   "cell_type": "markdown",
   "metadata": {},
   "source": [
    "# Base parameters and combinations with QR"
   ]
  },
  {
   "cell_type": "markdown",
   "metadata": {},
   "source": [
    "In the following, the QR decomposition is used to find columns in a matrix (e.g. dynamics regressor) that are independent and therefore are a choice of a basis for the identifiable subspace. It is then determined which linear combinations of the other dependent columns are forming the base columns/parameters in each of those. This is also necessary for the std essential parameters."
   ]
  },
  {
   "cell_type": "code",
   "execution_count": 1,
   "metadata": {
    "collapsed": false
   },
   "outputs": [],
   "source": [
    "import numpy as np; np.set_printoptions(formatter={'float': '{: 0.3f}'.format})"
   ]
  },
  {
   "cell_type": "code",
   "execution_count": 2,
   "metadata": {
    "collapsed": false
   },
   "outputs": [
    {
     "name": "stdout",
     "output_type": "stream",
     "text": [
      "(6, 6)\n"
     ]
    },
    {
     "data": {
      "text/plain": [
       "4"
      ]
     },
     "execution_count": 2,
     "metadata": {},
     "output_type": "execute_result"
    }
   ],
   "source": [
    "a = np.array([[1.0, 2.0,  .0,  5.0, 2.0, 3.0],\n",
    "              [1.0, 2.0,  .0,  4.0, 1.5, 2.5],\n",
    "              [ .0,  .0, 1.0,  .0,   .0, .0],\n",
    "              [ .0,  .0, 1.0,  .0,   .0, .0],\n",
    "              [2.0, 4.0,  .0,  6.0,  .0, 6.0],\n",
    "              [ .0,  .0, 0.5,  0.5, 0.5, .0]])\n",
    "print(a.shape)\n",
    "r = np.linalg.matrix_rank(a)\n",
    "r"
   ]
  },
  {
   "cell_type": "markdown",
   "metadata": {},
   "source": [
    "Test Matrix $a$ is rank deficient (rank $r<m$). The rank 4 means there are 4 sets of dependent columns, each with 1 or more columns in it. The columns $0,1$ and $3,4,5$ are linearly dependent. Column 2 is linearly independent from all other columns. Finding independent columns will give a single representant of each set, while the choice is non-unique if any set has more than one element. If a column is independent, there can be other columns that are dependent on it but it can also be a single element in its set.\n",
    "\n",
    "Assuming the set of linear equations, x being known parameters.\n",
    "$$A\\cdot x = t$$"
   ]
  },
  {
   "cell_type": "code",
   "execution_count": 32,
   "metadata": {
    "collapsed": false
   },
   "outputs": [
    {
     "data": {
      "text/plain": [
       "array([ 40.000,  32.750,  3.000,  3.000,  46.000,  5.750])"
      ]
     },
     "execution_count": 32,
     "metadata": {},
     "output_type": "execute_result"
    }
   ],
   "source": [
    "x = np.array([1.0,2.0,3.0,4.0,4.5,2.0])  #param\n",
    "t = a.dot(x)                         #result\n",
    "t"
   ]
  },
  {
   "cell_type": "markdown",
   "metadata": {},
   "source": [
    "## Sets of dependent columns\n"
   ]
  },
  {
   "cell_type": "markdown",
   "metadata": {},
   "source": [
    "Find sets of columns that are linearly independent to each other. For non-pivoting QR, the columns in R with diagonal elements that are not zero are \"independent\", i.e. these columns are selected as representative for this set with factor 1. For pivoting QR it does not work the same way. As there are as many \"independent\" sets as the rank of the matrix, taking the first rank columns of the permutation also gives the independent column indices but in different order. The choices for the representatives are possibly not the same but from the same independent sets.\n",
    "\n",
    "Assuming $m \\times n$ Matrix $a$ with $m>=n$."
   ]
  },
  {
   "cell_type": "code",
   "execution_count": 33,
   "metadata": {
    "collapsed": false,
    "scrolled": true
   },
   "outputs": [
    {
     "name": "stdout",
     "output_type": "stream",
     "text": [
      "[-8.789 -1.755 -1.496 -0.269 -0.000 -0.000]\n",
      "[3 4 2 1 5 0]\n"
     ]
    }
   ],
   "source": [
    "import scipy.linalg as sla\n",
    "Qp,Rp,P = sla.qr(a, pivoting=True, check_finite=True)\n",
    "print(Rp.diagonal())\n",
    "print(P)\n",
    "#print()\n",
    "#Q,R = np.linalg.qr(a, mode='complete')\n",
    "#print(R.diagonal())"
   ]
  },
  {
   "cell_type": "code",
   "execution_count": 54,
   "metadata": {
    "collapsed": false
   },
   "outputs": [
    {
     "name": "stdout",
     "output_type": "stream",
     "text": [
      "rank: 4\n",
      "[3 4 2 1]\n"
     ]
    }
   ],
   "source": [
    "tol = 1e-6\n",
    "#print(R.diagonal())\n",
    "#indepsQR = np.where(np.abs(R.diagonal()) > tol)[0]\n",
    "#print(indepsQR)\n",
    "\n",
    "print(\"rank: {}\".format(np.where(np.abs(Rp.diagonal()) > tol)[0].size ))   #rank with pivoting QR\n",
    "indepsQRP = P[0:r]\n",
    "print(indepsQRP)"
   ]
  },
  {
   "cell_type": "code",
   "execution_count": 35,
   "metadata": {
    "collapsed": false
   },
   "outputs": [],
   "source": [
    "#create proper permutation matrix\n",
    "Pp = np.zeros((P.size, P.size))\n",
    "for i in P:\n",
    "    Pp[i,P[i]]=1"
   ]
  },
  {
   "cell_type": "code",
   "execution_count": 76,
   "metadata": {
    "collapsed": false
   },
   "outputs": [
    {
     "name": "stdout",
     "output_type": "stream",
     "text": [
      "[[ 1.000 -0.000]\n",
      " [-1.000  0.000]\n",
      " [ 0.000  0.000]\n",
      " [ 0.000  0.500]]\n",
      "[3 4 2 1]\n"
     ]
    }
   ],
   "source": [
    "#Gautier 1990, 3-4: linear relationships\n",
    "#W1W2 = a.dot(Pp)\n",
    "#W1 = W1W2[:,0:indepsQRP.size]\n",
    "#W2 = W1W2[:,indepsQRP.size:a.shape[1]]\n",
    "#Q,R = np.linalg.qr(W1W2)\n",
    "#print(Q)\n",
    "#print(R.diagonal())\n",
    "#corresponds to QR with pivoting\n",
    "#print(Qp)\n",
    "#print(Rp.diagonal())\n",
    "\n",
    "#dependent columns W1 as linear combinations of independent columns W1\n",
    "R1 = Rp[0:indepsQRP.size,0:indepsQRP.size]\n",
    "R2 = Rp[0:indepsQRP.size,indepsQRP.size:]\n",
    "linDeps = np.linalg.inv(R1).dot(R2)\n",
    "print(linDeps)\n",
    "print(indepsQRP)\n",
    "#should be equal\n",
    "#print(W2)\n",
    "#print(W1.dot(linDeps))"
   ]
  },
  {
   "cell_type": "markdown",
   "metadata": {},
   "source": [
    "###  Getting the dependencies expressed for each of the independent columns"
   ]
  },
  {
   "cell_type": "code",
   "execution_count": 155,
   "metadata": {
    "collapsed": false
   },
   "outputs": [
    {
     "name": "stdout",
     "output_type": "stream",
     "text": [
      "P: [3 4 2 1 5 0]\n",
      "a:\n",
      " [[ 1.000  2.000  0.000  5.000  2.000  3.000]\n",
      " [ 1.000  2.000  0.000  4.000  1.500  2.500]\n",
      " [ 0.000  0.000  1.000  0.000  0.000  0.000]\n",
      " [ 0.000  0.000  1.000  0.000  0.000  0.000]\n",
      " [ 2.000  4.000  0.000  6.000  0.000  6.000]\n",
      " [ 0.000  0.000  0.500  0.500  0.500  0.000]]\n",
      "c5 = 1.0*c3 - 1.0*c4\n",
      "c0 = 0.5*c1\n",
      "{1: [2.0*c0], 3: [c4 + c5], 4: [c3 - c5]}\n"
     ]
    }
   ],
   "source": [
    "print(\"P:\", P)\n",
    "print(\"a:\\n\", a)\n",
    "\n",
    "from sympy import symbols, solve\n",
    "syms = symbols('c0:%d' % a.shape[1])\n",
    "\n",
    "# collect dependencies expressed from dependent columns (coming like that from QR)\n",
    "indep_eqs = list()\n",
    "for j in range(0,linDeps.shape[1]):\n",
    "    dep_org_col = P[indepsQRP.size+j]\n",
    "    # build linear equation for this dependent column\n",
    "    eq = 0\n",
    "    #go through all dependencies of this col and collect all grouped params\n",
    "    for i in range(0,linDeps.shape[0]):   \n",
    "        if np.abs(linDeps[i,j]) > 0.01:\n",
    "            indep_org_col = P[i]\n",
    "            eq += round(linDeps[i,j], 4)*syms[indep_org_col]\n",
    "            \n",
    "    eq = Eq(syms[dep_org_col], eq)\n",
    "    print(\"{} = {}\".format(eq.lhs, eq.rhs))\n",
    "    indep_eqs.append(eq)\n",
    "\n",
    "# collect grouped columns for each independent column\n",
    "indeps_deps = {}\n",
    "for j in indepsQRP:\n",
    "    for i in range(0,linDeps.shape[1]):\n",
    "        #print(syms[j], i)\n",
    "        if (not j in indeps_deps or indeps_deps[j] == []) and syms[j] in indep_eqs[i].free_symbols:\n",
    "            indeps_deps[j] = solve(indep_eqs[i], syms[j])\n",
    "            #print(\"solving {}\".format(indep_eqs[i].free_symbols))\n",
    "        elif j in indeps_deps and indeps_deps[j] != []:\n",
    "            break\n",
    "print(indeps_deps)"
   ]
  },
  {
   "cell_type": "markdown",
   "metadata": {},
   "source": [
    "## Getting the base projection matrix\n",
    "\n",
    "The first $r$ orthogonal columns of $Q$ form a basis $B$ of the column space of $A$ in case it is a square matrix. In the rectangular case, the QR decomposition of $A^T$ seems to be possible but maybe not always solvable?. \n",
    "$B$ can be used to project the matrix $A$ with regard to a vector $v$ to a matrix $A_\\text{base}$ with regard to a vector $v_\\text{base}$."
   ]
  },
  {
   "cell_type": "code",
   "execution_count": 45,
   "metadata": {
    "collapsed": false
   },
   "outputs": [
    {
     "name": "stdout",
     "output_type": "stream",
     "text": [
      "[[-0.209 -0.103  0.000  0.382  0.852 -0.271]\n",
      " [-0.417 -0.206  0.000  0.764 -0.426  0.136]\n",
      " [-0.000  0.000  1.000  0.000  0.000  0.000]\n",
      " [-0.626  0.480  0.000 -0.212 -0.175 -0.550]\n",
      " [-0.000  0.788  0.000  0.212  0.175  0.550]\n",
      " [-0.626 -0.309 -0.000 -0.424  0.175  0.550]]\n",
      "[[ 0.209  0.103 -0.000 -0.382]\n",
      " [ 0.417  0.206 -0.000 -0.764]\n",
      " [ 0.000 -0.000 -1.000 -0.000]\n",
      " [ 0.626 -0.480 -0.000  0.212]\n",
      " [ 0.000 -0.788 -0.000 -0.212]\n",
      " [ 0.626  0.309  0.000  0.424]]\n"
     ]
    }
   ],
   "source": [
    "Qpt,Rpt,Pt = sla.qr(a.T, pivoting=True, mode='economic')\n",
    "print(Qpt)\n",
    "B = -Qpt[:, 0:r]\n",
    "print(B)\n",
    "#B = sla.orth(a)[0:a.shape[1], :]\n",
    "#print(B)"
   ]
  },
  {
   "cell_type": "markdown",
   "metadata": {},
   "source": [
    "$Pp^T XB = [XB1 ; XB2] = [X1 + X1^{-1}R2 X2;0]$"
   ]
  },
  {
   "cell_type": "code",
   "execution_count": 46,
   "metadata": {
    "collapsed": false
   },
   "outputs": [
    {
     "name": "stdout",
     "output_type": "stream",
     "text": [
      "[3 4 2 1 5 0]\n",
      "x:\t [ 1.000  2.000  3.000  4.000  4.500  2.000]\n",
      "x1, x2:\t [ 4.000  4.500  3.000  2.000] [ 2.000  1.000]\n",
      "[ 6.000  2.500  3.000  2.500]\n"
     ]
    }
   ],
   "source": [
    "print(P)\n",
    "Px = Pp.dot(x)\n",
    "print('x:\\t', x)\n",
    "x1 = Px[0:r]\n",
    "x2 = Px[r:]\n",
    "print ('x1, x2:\\t', x1, x2)\n",
    "xb1 = x1 + np.linalg.inv(R1).dot(R2.dot(x2))\n",
    "print (xb1)"
   ]
  },
  {
   "cell_type": "code",
   "execution_count": 47,
   "metadata": {
    "collapsed": false
   },
   "outputs": [
    {
     "name": "stdout",
     "output_type": "stream",
     "text": [
      "x_base:\t [ 4.796 -4.336 -3.000 -1.167]\n",
      "deps:\n",
      "3, \n",
      "4, \n",
      "2, \n",
      "1, \n",
      "t:\t [ 40.000  32.750  3.000  3.000  46.000  5.750]\n",
      "t_base:\t [ 40.000  32.750  3.000  3.000  46.000  5.750]\n",
      "x:\t [ 1.000  2.000  3.000  4.000  4.500  2.000]\n",
      "x*:\t [ 1.000  2.000  3.000  4.833  3.667  1.167]\n",
      "[[ 0.000  0.000  0.000  0.000  0.000  0.000]\n",
      " [ 0.000  0.000  0.000  0.000 -0.000  0.000]\n",
      " [ 0.000  0.000  0.000  0.000  0.000  0.000]\n",
      " [ 0.000  0.000  0.000  0.000  0.000  0.000]\n",
      " [ 0.000  0.000  0.000  0.000  0.000  0.000]\n",
      " [ 0.000  0.000  0.000 -0.000  0.000  0.000]]\n"
     ]
    }
   ],
   "source": [
    "a_base = a.dot(B)\n",
    "x_base = B.T.dot(x)\n",
    "print('x_base:\\t', x_base)\n",
    "print(\"deps:\")\n",
    "for i in range(0, len(x_base)):\n",
    "    print(\"{}, \".format(indepsQRP[i], deps[i]))\n",
    "t_base = a_base.dot(x_base)\n",
    "print('t:\\t', t)\n",
    "print('t_base:\\t', t_base)\n",
    "print('x:\\t', x)\n",
    "print ('x*:\\t', B.dot(x_base))    #should give same x as in standard space if x was fully in base space already\n",
    "\n",
    "# test nullspace\n",
    "print(a.dot(np.eye(6) - B.dot(B.T)))"
   ]
  },
  {
   "cell_type": "code",
   "execution_count": 48,
   "metadata": {
    "collapsed": false
   },
   "outputs": [
    {
     "name": "stdout",
     "output_type": "stream",
     "text": [
      "[[-0.125  0.000]\n",
      " [ 0.250  0.000]\n",
      " [ 0.500  1.000]\n",
      " [ 0.000  0.000]]\n"
     ]
    }
   ],
   "source": [
    "deps = np.linalg.inv(Rpt[0:r, 0:r]).dot(Rpt[0:r, r:])\n",
    "print(deps)"
   ]
  },
  {
   "cell_type": "markdown",
   "metadata": {
    "collapsed": true
   },
   "source": [
    "### Base Projection with SVD"
   ]
  },
  {
   "cell_type": "code",
   "execution_count": 44,
   "metadata": {
    "collapsed": false
   },
   "outputs": [
    {
     "name": "stdout",
     "output_type": "stream",
     "text": [
      "[[-0.506  0.609  0.081 -0.560  0.223  0.049]\n",
      " [-0.424  0.391  0.055  0.815 -0.000  0.000]\n",
      " [-0.000  0.031 -0.668  0.030  0.373 -0.642]\n",
      " [-0.000  0.031 -0.668  0.030  0.072  0.739]\n",
      " [-0.750 -0.642 -0.072 -0.077 -0.111 -0.024]\n",
      " [-0.033  0.248 -0.305 -0.116 -0.891 -0.194]]\n",
      "[[-0.193 -0.386 -0.001 -0.694 -0.132 -0.562]\n",
      " [-0.116 -0.232  0.075  0.358  0.785 -0.427]\n",
      " [-0.006 -0.011 -0.997  0.026  0.061 -0.035]\n",
      " [ 0.386  0.773  0.008 -0.238  0.171 -0.409]\n",
      " [-0.592  0.296  0.000  0.433 -0.433 -0.433]\n",
      " [-0.670  0.335 -0.000 -0.382  0.382  0.382]]\n"
     ]
    },
    {
     "data": {
      "text/plain": [
       "4"
      ]
     },
     "execution_count": 44,
     "metadata": {},
     "output_type": "execute_result"
    }
   ],
   "source": [
    "U, s, Vh = sla.svd(a, full_matrices=False)\n",
    "print(U)\n",
    "print(Vh)\n",
    "np.sum(s>0.001)"
   ]
  },
  {
   "cell_type": "code",
   "execution_count": 49,
   "metadata": {
    "collapsed": false
   },
   "outputs": [
    {
     "data": {
      "text/plain": [
       "array([[ 0.209,  0.103, -0.000, -0.382],\n",
       "       [ 0.417,  0.206, -0.000, -0.764],\n",
       "       [ 0.000, -0.000, -1.000, -0.000],\n",
       "       [ 0.626, -0.480, -0.000,  0.212],\n",
       "       [ 0.000, -0.788, -0.000, -0.212],\n",
       "       [ 0.626,  0.309,  0.000,  0.424]])"
      ]
     },
     "execution_count": 49,
     "metadata": {},
     "output_type": "execute_result"
    }
   ],
   "source": [
    "# QR base for comparison\n",
    "B"
   ]
  },
  {
   "cell_type": "code",
   "execution_count": 43,
   "metadata": {
    "collapsed": false
   },
   "outputs": [
    {
     "data": {
      "text/plain": [
       "array([[ 0.193,  0.116,  0.006, -0.386],\n",
       "       [ 0.386,  0.232,  0.011, -0.773],\n",
       "       [ 0.001, -0.075,  0.997, -0.008],\n",
       "       [ 0.694, -0.358, -0.026,  0.238],\n",
       "       [ 0.132, -0.785, -0.061, -0.171],\n",
       "       [ 0.562,  0.427,  0.035,  0.409]])"
      ]
     },
     "execution_count": 43,
     "metadata": {},
     "output_type": "execute_result"
    }
   ],
   "source": [
    "B_svd = -Vh.T[:, 0:r]\n",
    "B = B_svd\n",
    "B"
   ]
  },
  {
   "cell_type": "code",
   "execution_count": null,
   "metadata": {
    "collapsed": true
   },
   "outputs": [],
   "source": []
  }
 ],
 "metadata": {
  "kernelspec": {
   "display_name": "Python 3",
   "language": "python",
   "name": "python3"
  },
  "language_info": {
   "codemirror_mode": {
    "name": "ipython",
    "version": 3
   },
   "file_extension": ".py",
   "mimetype": "text/x-python",
   "name": "python",
   "nbconvert_exporter": "python",
   "pygments_lexer": "ipython3",
   "version": "3.5.1"
  },
  "toc": {
   "toc_cell": false,
   "toc_number_sections": false,
   "toc_section_display": "none",
   "toc_threshold": 6,
   "toc_window_display": false
  }
 },
 "nbformat": 4,
 "nbformat_minor": 0
}
