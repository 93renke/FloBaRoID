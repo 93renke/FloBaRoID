{
 "cells": [
  {
   "cell_type": "markdown",
   "metadata": {},
   "source": [
    "# Base parameters and combinations with QR"
   ]
  },
  {
   "cell_type": "markdown",
   "metadata": {},
   "source": [
    "In the following, the QR decomposition is used to find columns in a matrix (e.g. dynamics regressor) that are independent and therefore are a choice of a basis for the identifiable subspace. It is then determined which linear combinations of the other dependent columns are forming the base columns/parameters in each of those. This is also necessary for the std essential parameters."
   ]
  },
  {
   "cell_type": "code",
   "execution_count": 2,
   "metadata": {
    "collapsed": false
   },
   "outputs": [
    {
     "name": "stdout",
     "output_type": "stream",
     "text": [
      "['classic', 'seaborn-whitegrid', 'seaborn-dark-palette', 'fivethirtyeight', 'ggplot', 'seaborn-bright', 'seaborn-pastel', 'seaborn-darkgrid', 'seaborn-colorblind', 'seaborn-muted', 'seaborn-deep', 'bmh', 'seaborn-paper', 'seaborn-ticks', 'dark_background', 'seaborn-dark', 'seaborn-poster', 'seaborn-talk', 'seaborn-white', 'seaborn-notebook', 'grayscale']\n"
     ]
    }
   ],
   "source": [
    "import numpy as np; np.set_printoptions(formatter={'float': '{: 0.3f}'.format})\n",
    "import numpy.linalg as la\n",
    "%matplotlib notebook\n",
    "import matplotlib\n",
    "print(matplotlib.style.available)\n",
    "matplotlib.style.use('seaborn-ticks')\n",
    "import sympy\n",
    "sympy.init_printing(use_latex='mathjax')\n",
    "from sympy import symbols, solve, simplify, Eq, Symbol"
   ]
  },
  {
   "cell_type": "code",
   "execution_count": 3,
   "metadata": {
    "collapsed": false
   },
   "outputs": [
    {
     "name": "stdout",
     "output_type": "stream",
     "text": [
      "Rank: 4\n",
      "Reduced row-echelon: (Matrix([\n",
      "[1.0, 2.0,   0,   0,   0,    0],\n",
      "[  0,   0, 1.0,   0,   0,    0],\n",
      "[  0,   0,   0, 1.0,   0,  1.0],\n",
      "[  0,   0,   0,   0, 1.0, -1.0],\n",
      "[  0,   0,   0,   0,   0,    0],\n",
      "[  0,   0,   0,   0,   0,    0]]), [0, 2, 3, 4])\n"
     ]
    }
   ],
   "source": [
    "\"\"\"\n",
    "a = np.array([[1.0, 2.0,  .0,  5.0, 2.0, 3.0, 5.0],\n",
    "              [1.0, 2.0,  .0,  4.0, 1.5, 2.5, 4.5],\n",
    "              [ .0,  .0, 1.0,   .0,  .0,  .0, 0.0],\n",
    "              [ .0,  .0, 1.0,   .0,  .0,  .0, 0.0],\n",
    "              [2.0, 4.0,  .0,  6.0,  .0, 6.0, 10.0],\n",
    "              [ .0,  .0, 0.5,  0.5, 0.5,  .0, 0.0]])\n",
    "\"\"\"\n",
    "a = np.array([[1.0, 2.0,  .0,  5.0, 2.0, 3.0],\n",
    "              [1.0, 2.0,  .0,  4.0, 1.5, 2.5],\n",
    "              [ .0,  .0, 1.0,   .0,  .0,  .0],\n",
    "              [ .0,  .0, 1.0,   .0,  .0,  .0],\n",
    "              [2.0, 4.0,  .0,  6.0,  .0, 6.0],\n",
    "              [ .0,  .0, 0.5,  0.5, 0.5,  .0]])\n",
    "r = np.linalg.matrix_rank(a)\n",
    "print(\"Rank:\", r)\n",
    "rref = sympy.Matrix(a).rref()\n",
    "print(\"Reduced row-echelon:\", rref)"
   ]
  },
  {
   "cell_type": "markdown",
   "metadata": {},
   "source": [
    "Test Matrix $a$ is rank deficient (rank $r<m$). The rank 4 means there are 4 sets of dependent columns, each with 1 or more columns in it. The columns $0,1$ and $3,4,5$ are linearly dependent (that makes only 3 sets...). Column 2 is linearly independent from all other columns. Finding independent columns should give a single representant of each set. The choice is non-unique if any set has more than one element. If a column was independent in the original matrix, there can not be other columns dependent on it and it is a single element in its set.\n",
    "\n",
    "Assuming the set of linear equations, x being known parameters.\n",
    "$$A\\cdot x = t$$"
   ]
  },
  {
   "cell_type": "code",
   "execution_count": 4,
   "metadata": {
    "collapsed": false
   },
   "outputs": [
    {
     "name": "stdout",
     "output_type": "stream",
     "text": [
      "[ 34.200  27.900  3.000  3.000  36.400  5.500]\n"
     ]
    },
    {
     "data": {
      "text/plain": [
       "array([ 34.200,  27.900,  3.000,  3.000,  36.400,  5.500])"
      ]
     },
     "execution_count": 4,
     "metadata": {},
     "output_type": "execute_result"
    }
   ],
   "source": [
    "x_real = np.array([1.0,1.7,3.0,4.0,4.0,0.6])#,4.0])  #param\n",
    "x_cad = np.array([1.0,2.1,3.0,4.3,4.0,0.4])#,4.0])\n",
    "#x = x_real - x_cad   #use a priori\n",
    "x = x_real\n",
    "t_real = a.dot(x_real)\n",
    "print(t_real)\n",
    "t = a.dot(x)                         #result\n",
    "t"
   ]
  },
  {
   "cell_type": "markdown",
   "metadata": {},
   "source": [
    "## Sets of dependent columns\n"
   ]
  },
  {
   "cell_type": "markdown",
   "metadata": {},
   "source": [
    "Find sets of columns that are linearly independent to each other. For non-pivoting QR, the columns in R with diagonal elements that are not zero are \"independent\", i.e. these columns are selected as representative for this set with factor 1. For pivoting QR it does not work the same way. As there are as many \"independent\" sets as the rank of the matrix, taking the first rank columns of the permutation also gives the independent column indices but in different order. The choices for the representatives are possibly not the same but from the same independent sets.\n",
    "\n",
    "Assuming $m \\times n$ Matrix $a$ with $m>=n$."
   ]
  },
  {
   "cell_type": "code",
   "execution_count": 5,
   "metadata": {
    "collapsed": false,
    "scrolled": true
   },
   "outputs": [
    {
     "name": "stdout",
     "output_type": "stream",
     "text": [
      "[[-8.789 -1.849 -0.028 -4.779 -6.940 -2.389]\n",
      " [ 0.000 -1.755 -0.112  1.045  1.755  0.523]\n",
      " [ 0.000  0.000 -1.496  0.012 -0.000  0.006]\n",
      " [ 0.000  0.000  0.000 -0.269 -0.000 -0.134]\n",
      " [ 0.000  0.000  0.000  0.000 -0.000 -0.000]\n",
      " [ 0.000  0.000  0.000  0.000  0.000 -0.000]]\n",
      "[-8.789 -1.755 -1.496 -0.269 -0.000 -0.000]\n",
      "Permutation from QR: [3 4 2 1 5 0]\n"
     ]
    }
   ],
   "source": [
    "import scipy.linalg as sla\n",
    "Qp,Rp,P = sla.qr(a, pivoting=True, check_finite=True)\n",
    "print(Rp)\n",
    "print(Rp.diagonal())\n",
    "print(\"Permutation from QR:\", P)\n",
    "#create proper permutation matrix from P\n",
    "Pp = np.zeros((P.size, P.size))\n",
    "for i in P:\n",
    "    Pp[i,P[i]]=1\n",
    "#Qp.T.dot(a).dot(Pp.T)  #== R"
   ]
  },
  {
   "cell_type": "code",
   "execution_count": 6,
   "metadata": {
    "collapsed": false
   },
   "outputs": [
    {
     "name": "stdout",
     "output_type": "stream",
     "text": [
      "rank (QR): 4\n",
      "chosen set of independent columns: [3 4 2 1]\n"
     ]
    }
   ],
   "source": [
    "tol = 1e-10\n",
    "print(\"rank (QR): {}\".format(np.where(np.abs(Rp.diagonal()) > tol)[0].size ))   #rank with pivoting QR\n",
    "indepsQRP = P[0:r]\n",
    "print(\"chosen set of independent columns:\", indepsQRP)"
   ]
  },
  {
   "cell_type": "code",
   "execution_count": 7,
   "metadata": {
    "collapsed": false
   },
   "outputs": [
    {
     "name": "stdout",
     "output_type": "stream",
     "text": [
      "[[ 1.000 -0.000]\n",
      " [-1.000  0.000]\n",
      " [ 0.000  0.000]\n",
      " [ 0.000  0.500]] \n",
      "\n",
      "[[ 3.000  1.000]\n",
      " [ 2.500  1.000]\n",
      " [ 0.000  0.000]\n",
      " [ 0.000  0.000]\n",
      " [ 6.000  2.000]\n",
      " [ 0.000  0.000]]\n",
      "should be equal to\n",
      "[[ 3.000  1.000]\n",
      " [ 2.500  1.000]\n",
      " [ 0.000  0.000]\n",
      " [ 0.000  0.000]\n",
      " [ 6.000  2.000]\n",
      " [-0.000  0.000]]\n"
     ]
    }
   ],
   "source": [
    "#Gautier 1990, 3-4: linear relationships\n",
    "W1W2 = a.dot(Pp.T)\n",
    "W1 = W1W2[:,0:r]\n",
    "W2 = W1W2[:,r:]\n",
    "\n",
    "#express dependent columns (in W2) as linear combinations of independent columns (in W1)\n",
    "R1 = Rp[0:r,0:r]\n",
    "R2 = Rp[0:r,r:]\n",
    "linDeps = la.inv(R1).dot(R2)\n",
    "print(linDeps, \"\\n\")\n",
    "\n",
    "print(W2)\n",
    "print(\"should be equal to\")\n",
    "print(W1.dot(linDeps))"
   ]
  },
  {
   "cell_type": "markdown",
   "metadata": {},
   "source": [
    "## Getting base params with explicit QR relationships (Gautier 1990)\n",
    "\n",
    "$Pp^T X_B = [X_{B_1} ; X_{B_2}] = [X_1 + R_1^{-1}R_2 X_2;0]$\n",
    "\n",
    "The base params are obtained from the standard params numerically, grouping certain columns of the initial matrix.\n",
    "Note: not sure in which basis the base params are expressed."
   ]
  },
  {
   "cell_type": "code",
   "execution_count": 8,
   "metadata": {
    "collapsed": false
   },
   "outputs": [
    {
     "name": "stdout",
     "output_type": "stream",
     "text": [
      "[3 4 2 1 5 0]\n",
      "x:\t [ 1.000  1.700  3.000  4.000  4.000  0.600]\n",
      "x1, x2:\t [ 4.000  4.000  3.000  1.700] [ 0.600  1.000]\n",
      "Base Params: [ 4.600  3.400  3.000  2.200]\n"
     ]
    }
   ],
   "source": [
    "print(P)\n",
    "PTx = Pp.dot(x)\n",
    "print('x:\\t', x)\n",
    "x1 = PTx[0:r]\n",
    "x2 = PTx[r:]\n",
    "print ('x1, x2:\\t', x1, x2)\n",
    "xb1 = x1 + la.inv(R1).dot(R2).dot(x2)\n",
    "print (\"Base Params:\", xb1)"
   ]
  },
  {
   "cell_type": "markdown",
   "metadata": {},
   "source": [
    "###  Getting the dependencies expressed for each of the independent columns\n",
    "\n",
    "Similar to the base param values, $R_1^{-1}R_2$ gives the linear relationship between the dependent columns in $W_2$ and the independent ones in $W_1$. The base matrix column values are the sum of those coefficients.\n",
    "The symbolic relationships can thus be retrieved."
   ]
  },
  {
   "cell_type": "code",
   "execution_count": 95,
   "metadata": {
    "collapsed": false
   },
   "outputs": [
    {
     "name": "stdout",
     "output_type": "stream",
     "text": [
      "P: [3 4 2 1 5 0]\n",
      "a:\n",
      " [[ 1.000  2.000  0.000  5.000  2.000  3.000]\n",
      " [ 1.000  2.000  0.000  4.000  1.500  2.500]\n",
      " [ 0.000  0.000  1.000  0.000  0.000  0.000]\n",
      " [ 0.000  0.000  1.000  0.000  0.000  0.000]\n",
      " [ 2.000  4.000  0.000  6.000  0.000  6.000]\n",
      " [ 0.000  0.000  0.500  0.500  0.500  0.000]]\n",
      "linDeps:\n",
      " [[ 1.000 -0.000]\n",
      " [-1.000  0.000]\n",
      " [ 0.000  0.000]\n",
      " [ 0.000  0.500]]\n",
      "base param eqns: {0: c3 + 1.0*c5, 1: c4 - 1.0*c5, 2: c2, 3: 0.5*c0 + c1}\n",
      "\n",
      "std params:\t [ 1.000  1.700  3.000  4.000  4.000  0.600]\n",
      "base params:\t [ 4.600  3.400  3.000  2.200]\n",
      "B_qr:\n",
      " [[ 0.000  0.000  0.000  0.500]\n",
      " [ 0.000  0.000  0.000  1.000]\n",
      " [ 0.000  0.000  1.000  0.000]\n",
      " [ 1.000  0.000  0.000  0.000]\n",
      " [ 0.000  1.000  0.000  0.000]\n",
      " [ 1.000 -1.000  0.000  0.000]]\n",
      "a_base:\n",
      "[[ 8.000 -1.000  0.000  2.500]\n",
      " [ 6.500 -1.000  0.000  2.500]\n",
      " [ 0.000  0.000  1.000  0.000]\n",
      " [ 0.000  0.000  1.000  0.000]\n",
      " [ 12.000 -6.000  0.000  5.000]\n",
      " [ 0.500  0.500  0.500  0.000]]\n",
      "x_base_qr:\t [ 4.200  3.800  3.000  1.760]\n",
      "\n",
      "should be equal:\n",
      "t:\t [ 34.200  27.900  3.000  3.000  36.400  5.500]\n",
      "t_base:\t [ 34.200  27.900  3.000  3.000  36.400  5.500]\n"
     ]
    }
   ],
   "source": [
    "print(\"P:\", P)\n",
    "print(\"a:\\n\", a)\n",
    "print(\"linDeps:\\n\", linDeps)\n",
    "\n",
    "syms = symbols('c0:%d' % a.shape[1])\n",
    "\n",
    "'''\n",
    "# collect dependencies expressed from dependent columns (coming like that from QR)\n",
    "indep_eqs = list()\n",
    "for j in range(0,linDeps.shape[1]):\n",
    "    dep_org_col = P[indepsQRP.size+j]\n",
    "    # build linear equation for this dependent column\n",
    "    eq = 0\n",
    "    #go through all dependencies of this col and collect all grouped params\n",
    "    for i in range(0,linDeps.shape[0]):   \n",
    "        if np.abs(linDeps[i,j]) > 0.01:\n",
    "            indep_org_col = P[i]\n",
    "            eq += round(linDeps[i,j], 4)*syms[indep_org_col]\n",
    "            \n",
    "    eq = Eq(syms[dep_org_col], eq)\n",
    "    print(\"{} = {}\".format(eq.lhs, eq.rhs))\n",
    "    indep_eqs.append(eq)\n",
    "print(indep_eqs)\n",
    "'''\n",
    "\n",
    "# collect grouped columns for each independent column (\"representatives\" of the groups of linear dependent columns)\n",
    "base_deps = {}\n",
    "B_qr = np.zeros((a.shape[1],r))\n",
    "for j in range(0, linDeps.shape[0]):\n",
    "    indep_idx = indepsQRP[j]\n",
    "    sym = syms[j]\n",
    "    \n",
    "    #build equation from factors in each row\n",
    "    for i in range(0,linDeps.shape[1]):\n",
    "        if j not in base_deps:\n",
    "            base_deps[j] = syms[indep_idx]    #start with independent column symbol\n",
    "            for k in range(r, P.size):        #... and for each entry!=0, add dep columns symbols with factor\n",
    "                fact = round(linDeps[j, k-r], 4)  #TODO: maybe remove rounding\n",
    "                if np.abs(fact)>tol:\n",
    "                    base_deps[j] += syms[P[k]]*fact\n",
    "                    B_qr[P[k],j] = fact\n",
    "    B_qr[indep_idx,j] = 1\n",
    "\n",
    "print('base param eqns:', base_deps)\n",
    "print('\\nstd params:\\t', x)\n",
    "print('base params:\\t', xb1)\n",
    "print(\"B_qr:\\n\", B_qr)\n",
    "#print(a.dot(np.eye(B_qr.shape[0]) - B_qr.dot(la.pinv(B_qr))))\n",
    "\n",
    "#a_base_qr = a[:, indepsQRP] + linDeps.dot(a[:,P[r:]].T).T\n",
    "a_base_qr = a.dot(B_qr)\n",
    "print(\"a_base:\")\n",
    "print(a_base_qr)\n",
    "\n",
    "#since B_qr is not an orthogonal base (B_qr.T != B_qr^-1), we have to use pinv instead of T\n",
    "#(using QR on B_qr yields orthonormal base if necessary)\n",
    "x_base_qr = la.pinv(B_qr).dot(x)\n",
    "print(\"x_base_qr:\\t\", x_base_qr)\n",
    "\n",
    "t_base = a_base_qr.dot(x_base_qr)\n",
    "print('\\nshould be equal:')\n",
    "print('t:\\t', t)\n",
    "print('t_base:\\t', t_base)"
   ]
  },
  {
   "cell_type": "markdown",
   "metadata": {},
   "source": [
    "## Getting the base projection matrix from QR\n",
    "\n",
    "The columns of $Q$ are orthonormal ($Q^TQ = I$) and have the same span as the columns of $A$.\n",
    "For $Q,R=QR(A)$, $Q^TQ$ is thus a projection of a vector $b$ onto $\\text{range}(A)$.\n",
    "The first $r$ orthogonal columns of $Q$ form the basis or projection $B$ of the column space of $A_\\text{base}$. (Q is orthogonal if A is square, $Q^TQ = QQ^T = I$. In the rectangular case it is only orthonormal).\n",
    "$B$ can be used to project the matrix $A$ with regard to a vector $v$ to a matrix $A_\\text{base}$ with regard to a vector $v_\\text{base}$. It has to be noticed though that the choice of the basis is very different from the one that results from the explicit method using QR from Gautier."
   ]
  },
  {
   "cell_type": "code",
   "execution_count": 29,
   "metadata": {
    "collapsed": false
   },
   "outputs": [
    {
     "name": "stdout",
     "output_type": "stream",
     "text": [
      "[[ 0.209  0.103 -0.000 -0.382]\n",
      " [ 0.417  0.206 -0.000 -0.764]\n",
      " [ 0.000 -0.000 -1.000 -0.000]\n",
      " [ 0.626 -0.480 -0.000  0.212]\n",
      " [ 0.000 -0.788 -0.000 -0.212]\n",
      " [ 0.626  0.309  0.000  0.424]]\n",
      "\n",
      "symbolic relations of base params/columns:\n",
      "{0: 0.208514414057075*c0 + 0.417028828114149*c1 + 0.625543242171224*c3 + 0.625543242171224*c5, 1: 0.102838675528659*c0 + 0.205677351057318*c1 - 0.479913819133743*c3 - 0.78842984571972*c4 + 0.308516026585977*c5, 2: -1.0*c2, 3: -0.382028723980208*c0 - 0.764057447960416*c1 + 0.212238179989004*c3 - 0.212238179989004*c4 + 0.424476359978009*c5}\n"
     ]
    }
   ],
   "source": [
    "Qpt,Rpt,Pt = sla.qr(a.T, pivoting=True, mode='economic')\n",
    "#print(Qpt)\n",
    "B = -Qpt[:, 0:r]\n",
    "print(B)\n",
    "\n",
    "#get linear equations for base params from projection (each column is a basis vector for the subspace)\n",
    "print(\"\\nsymbolic relations of base params/columns:\")\n",
    "for j in range(0, B.shape[1]):\n",
    "    eq = 0*syms[0]\n",
    "    for i in range(0, B.shape[0]):\n",
    "        eq += B[i, j]*syms[i]\n",
    "    base_deps[j] = eq\n",
    "print(base_deps)"
   ]
  },
  {
   "cell_type": "code",
   "execution_count": 12,
   "metadata": {
    "collapsed": false
   },
   "outputs": [
    {
     "name": "stdout",
     "output_type": "stream",
     "text": [
      "a_base:\n",
      " [[ 6.047 -2.537  0.000  0.000]\n",
      " [ 5.109 -1.817  0.000 -0.318]\n",
      " [ 0.000  0.000 -1.000  0.000]\n",
      " [ 0.000  0.000 -1.000  0.000]\n",
      " [ 9.592 -0.000  0.000  0.000]\n",
      " [ 0.313 -0.634 -0.500  0.000]]\n",
      "x_base:\t [ 3.795 -4.436 -3.000 -1.426]\n",
      "t:\t [ 34.200  27.900  3.000  3.000  36.400  5.500]\n",
      "t_base:\t [ 34.200  27.900  3.000  3.000  36.400  5.500]\n",
      "x:\t [ 1.000  1.700  3.000  4.000  4.000  0.600]\n",
      "x*:\t [ 0.880  1.760  3.000  4.200  3.800  0.400]\n",
      "[[ 0.000  0.000  0.000  0.000  0.000  0.000]\n",
      " [ 0.000  0.000  0.000  0.000 -0.000  0.000]\n",
      " [ 0.000  0.000  0.000  0.000  0.000  0.000]\n",
      " [ 0.000  0.000  0.000  0.000  0.000  0.000]\n",
      " [ 0.000  0.000  0.000  0.000  0.000  0.000]\n",
      " [ 0.000  0.000  0.000 -0.000  0.000  0.000]]\n"
     ]
    }
   ],
   "source": [
    "a_base = a.dot(B)\n",
    "print('a_base:\\n', a_base)\n",
    "x_base = B.T.dot(x)\n",
    "print('x_base:\\t', x_base)\n",
    "t_base = a_base.dot(x_base)\n",
    "print('t:\\t', t)\n",
    "print('t_base:\\t', t_base)\n",
    "#solutions should be equal\n",
    "\n",
    "print('x:\\t', x)\n",
    "#projecting base x back to std columns (introduces error if original x was not in solution space)\n",
    "print ('x*:\\t', B.dot(x_base))\n",
    "\n",
    "# test if projection is orthogonal which is equal to range and nullspace are orthogonal subspaces\n",
    "# a(I - BB^T) = 0\n",
    "print(a.dot(np.eye(B.shape[0]) - B.dot(B.T)))"
   ]
  },
  {
   "cell_type": "markdown",
   "metadata": {
    "collapsed": true
   },
   "source": [
    "### Base Projection with SVD\n",
    "\n",
    "Getting the base projection matrix is also possible but would need another step of SVD if QR has been used before."
   ]
  },
  {
   "cell_type": "code",
   "execution_count": 13,
   "metadata": {
    "collapsed": false
   },
   "outputs": [
    {
     "name": "stdout",
     "output_type": "stream",
     "text": [
      "[[-0.506  0.609  0.081 -0.560  0.223  0.049]\n",
      " [-0.424  0.391  0.055  0.815 -0.000  0.000]\n",
      " [-0.000  0.031 -0.668  0.030  0.373 -0.642]\n",
      " [-0.000  0.031 -0.668  0.030  0.072  0.739]\n",
      " [-0.750 -0.642 -0.072 -0.077 -0.111 -0.024]\n",
      " [-0.033  0.248 -0.305 -0.116 -0.891 -0.194]]\n",
      "[[-0.193 -0.386 -0.001 -0.694 -0.132 -0.562]\n",
      " [-0.116 -0.232  0.075  0.358  0.785 -0.427]\n",
      " [-0.006 -0.011 -0.997  0.026  0.061 -0.035]\n",
      " [ 0.386  0.773  0.008 -0.238  0.171 -0.409]\n",
      " [-0.592  0.296  0.000  0.433 -0.433 -0.433]\n",
      " [-0.670  0.335 -0.000 -0.382  0.382  0.382]]\n"
     ]
    },
    {
     "data": {
      "text/plain": [
       "4"
      ]
     },
     "execution_count": 13,
     "metadata": {},
     "output_type": "execute_result"
    }
   ],
   "source": [
    "U, s, Vh = sla.svd(a, full_matrices=False)\n",
    "print(U)\n",
    "print(Vh)\n",
    "np.sum(s>0.001) #rank"
   ]
  },
  {
   "cell_type": "code",
   "execution_count": 86,
   "metadata": {
    "collapsed": false
   },
   "outputs": [
    {
     "name": "stdout",
     "output_type": "stream",
     "text": [
      "[[ 0.193  0.116  0.006 -0.386]\n",
      " [ 0.386  0.232  0.011 -0.773]\n",
      " [ 0.001 -0.075  0.997 -0.008]\n",
      " [ 0.694 -0.358 -0.026  0.238]\n",
      " [ 0.132 -0.785 -0.061 -0.171]\n",
      " [ 0.562  0.427  0.035  0.409]]\n",
      "[[ 0.209  0.103 -0.000 -0.382]\n",
      " [ 0.417  0.206 -0.000 -0.764]\n",
      " [ 0.000 -0.000 -1.000 -0.000]\n",
      " [ 0.626 -0.480 -0.000  0.212]\n",
      " [ 0.000 -0.788 -0.000 -0.212]\n",
      " [ 0.626  0.309  0.000  0.424]]\n"
     ]
    }
   ],
   "source": [
    "B_svd = -Vh.T[:, 0:r]\n",
    "print(B_svd)\n",
    "# QR base for comparison\n",
    "print(B)"
   ]
  },
  {
   "cell_type": "markdown",
   "metadata": {},
   "source": [
    "### Base Projection with Reduced-Row-Echelon form\n",
    "Klodman, et.al., 2015: \"A Closed-Form Approach to Determine the Base Inertial Parameters of Complex Structured Robotic Systems\".\n",
    "Results in much cleaner dependencies (also less coefficients $\\neq 0$ opposed to QR basis).\n",
    "Not sure if this has numerical issues as discussed e.g. in https://mail.scipy.org/pipermail/numpy-discussion/2008-November/038705.html. May be ok since it is done symbolically in sympy.\n",
    "Will probably not reduce to minimal amount of base params, rest can only be found numerically (Paper says that somewhere)."
   ]
  },
  {
   "cell_type": "code",
   "execution_count": 19,
   "metadata": {
    "collapsed": false
   },
   "outputs": [
    {
     "data": {
      "text/latex": [
       "$$\\left ( \\left[\\begin{matrix}1.0 & 2.0 & 0 & 0 & 0 & 0\\\\0 & 0 & 1.0 & 0 & 0 & 0\\\\0 & 0 & 0 & 1.0 & 0 & 1.0\\\\0 & 0 & 0 & 0 & 1.0 & -1.0\\\\0 & 0 & 0 & 0 & 0 & 0\\\\0 & 0 & 0 & 0 & 0 & 0\\end{matrix}\\right], \\quad \\left [ 0, \\quad 2, \\quad 3, \\quad 4\\right ]\\right )$$"
      ],
      "text/plain": [
       "⎛⎡1.0  2.0   0    0    0    0  ⎤, [0, 2, 3, 4]⎞\n",
       "⎜⎢                             ⎥              ⎟\n",
       "⎜⎢ 0    0   1.0   0    0    0  ⎥              ⎟\n",
       "⎜⎢                             ⎥              ⎟\n",
       "⎜⎢ 0    0    0   1.0   0   1.0 ⎥              ⎟\n",
       "⎜⎢                             ⎥              ⎟\n",
       "⎜⎢ 0    0    0    0   1.0  -1.0⎥              ⎟\n",
       "⎜⎢                             ⎥              ⎟\n",
       "⎜⎢ 0    0    0    0    0    0  ⎥              ⎟\n",
       "⎜⎢                             ⎥              ⎟\n",
       "⎝⎣ 0    0    0    0    0    0  ⎦              ⎠"
      ]
     },
     "execution_count": 19,
     "metadata": {},
     "output_type": "execute_result"
    }
   ],
   "source": [
    "from sympy import pprint, Matrix\n",
    "Ew = Matrix(a).rref()\n",
    "Ew"
   ]
  },
  {
   "cell_type": "code",
   "execution_count": 20,
   "metadata": {
    "collapsed": false
   },
   "outputs": [
    {
     "name": "stdout",
     "output_type": "stream",
     "text": [
      "R\n",
      " [[ 1.000  2.000  0.000  0.000  0.000  0.000]\n",
      " [ 0.000  0.000  1.000  0.000  0.000  0.000]\n",
      " [ 0.000  0.000  0.000  1.000  0.000  1.000]\n",
      " [ 0.000  0.000  0.000  0.000  1.000 -1.000]]\n",
      "Rpinv\n",
      " [[ 0.200  0.000  0.000  0.000]\n",
      " [ 0.400  0.000 -0.000 -0.000]\n",
      " [ 0.000  1.000  0.000  0.000]\n",
      " [ 0.000  0.000  0.667  0.333]\n",
      " [ 0.000  0.000  0.333  0.667]\n",
      " [ 0.000  0.000  0.333 -0.333]]\n",
      "\n",
      "symbolic relations of base params/columns:\n",
      "0 0.2*c0 + 0.4*c1\n",
      "1 1.0*c2\n",
      "2 0.666666666666667*c3 + 0.333333333333333*c4 + 0.333333333333333*c5\n",
      "3 0.333333333333333*c3 + 0.666666666666667*c4 - 0.333333333333334*c5\n"
     ]
    }
   ],
   "source": [
    "Ew_np = np.array(Ew[0].tolist(), dtype=float)\n",
    "# B in Paper:\n",
    "R = Ew_np[~np.all(Ew_np==0, axis=1)]    #remove rows that are all zero\n",
    "Rpinv = la.pinv(R)   # == P in Paper\n",
    "#print(\"x_std:\\t\", x)\n",
    "print(\"R\\n\", R)\n",
    "print(\"Rpinv\\n\", Rpinv)\n",
    "#print(\"x_base:\\t\", R.dot(x))\n",
    "#print(\"a\\n\", a)\n",
    "#print(\"a_base\\n\", a.dot(Rpinv))\n",
    "\n",
    "#get linear equations for base params from projection\n",
    "print(\"\\nsymbolic relations of base params/columns:\")\n",
    "for j in range(0, Rpinv.shape[1]):\n",
    "    eq = 0*syms[0]\n",
    "    for i in range(0, Rpinv.shape[0]):\n",
    "        if np.abs(Rpinv[i,j]) > tol:\n",
    "            eq += Rpinv[i, j]*syms[i]\n",
    "    print(j, eq)"
   ]
  },
  {
   "cell_type": "code",
   "execution_count": 32,
   "metadata": {
    "collapsed": false
   },
   "outputs": [
    {
     "name": "stdout",
     "output_type": "stream",
     "text": [
      "a:\n",
      " [[ 1.000  2.000  0.000  5.000  2.000  3.000]\n",
      " [ 1.000  2.000  0.000  4.000  1.500  2.500]\n",
      " [ 0.000  0.000  1.000  0.000  0.000  0.000]\n",
      " [ 0.000  0.000  1.000  0.000  0.000  0.000]\n",
      " [ 2.000  4.000  0.000  6.000  0.000  6.000]\n",
      " [ 0.000  0.000  0.500  0.500  0.500  0.000]]\n",
      "a_base:\n",
      " [[ 1.000  0.000  5.000  2.000]\n",
      " [ 1.000  0.000  4.000  1.500]\n",
      " [ 0.000  1.000  0.000  0.000]\n",
      " [ 0.000  1.000  0.000  0.000]\n",
      " [ 2.000  0.000  6.000 -0.000]\n",
      " [ 0.000  0.500  0.500  0.500]]\n",
      "x_base:\t [ 4.400  3.000  4.600  3.400]\n",
      "t:\t [ 34.200  27.900  3.000  3.000  36.400  5.500]\n",
      "t_base:\t [ 34.200  27.900  3.000  3.000  36.400  5.500]\n",
      "x:\t [ 1.000  1.700  3.000  4.000  4.000  0.600]\n",
      "x*:\t [ 0.880  1.760  3.000  4.200  3.800  0.400]\n",
      "[[ 0.000  0.000  0.000  0.000  0.000  0.000]\n",
      " [ 0.000  0.000  0.000  0.000  0.000  0.000]\n",
      " [ 0.000  0.000  0.000  0.000  0.000  0.000]\n",
      " [ 0.000  0.000  0.000  0.000  0.000  0.000]\n",
      " [ 0.000  0.000  0.000  0.000  0.000  0.000]\n",
      " [ 0.000  0.000  0.000  0.000 -0.000  0.000]]\n"
     ]
    }
   ],
   "source": [
    "print('a:\\n', a)\n",
    "a_base_R = a.dot(Rpinv)\n",
    "print('a_base:\\n', a_base_R)\n",
    "x_base_R = R.dot(x)\n",
    "print('x_base:\\t', x_base_R)\n",
    "t_base = a_base_R.dot(x_base_R)\n",
    "print('t:\\t', t)\n",
    "print('t_base:\\t', t_base)\n",
    "#solutions should be equal\n",
    "\n",
    "print('x:\\t', x)\n",
    "#inverse projection back to std columns (introduces error if original x was not in base space already)\n",
    "print ('x*:\\t', Rpinv.dot(x_base_R))\n",
    "\n",
    "#check if basis is orthonormal\n",
    "print(a.dot(np.eye(Rpinv.shape[0]) - Rpinv.dot(R)))"
   ]
  },
  {
   "cell_type": "markdown",
   "metadata": {},
   "source": [
    "## Projecting a-priori onto non-identifiable subspace\n",
    "The non-identifiable subspace is the orthogonal subspace to the identifiable subspace. Its base columns can be retrieved from the QR decomposition (columns of Q >r) or by substracting the identifiable subspace from the Identitity.\n",
    "Its base vectors project the a-priori parameter vector only onto the non-identifiable parameters which is the amount that we cannot identify but take a good guess from the a priori values. Adding it to the identified values gives the closest solution to the a priori values that still minimizes the residual error."
   ]
  },
  {
   "cell_type": "code",
   "execution_count": 92,
   "metadata": {
    "collapsed": false
   },
   "outputs": [
    {
     "name": "stdout",
     "output_type": "stream",
     "text": [
      "[ 1.000  1.700  3.000  4.000  4.000  0.600]\n",
      "[ 0.840  1.780  3.000  4.167  3.833  0.433]\n",
      "0.339607616719\n",
      "[ 34.200  27.900  3.000  3.000  36.400  5.500]\n",
      "[ 34.200  27.900  3.000  3.000  36.400  5.500]\n"
     ]
    }
   ],
   "source": [
    "#x_std = Rpinv.dot(x_base_R) + (np.eye(Rpinv.shape[0]) - Rpinv.dot(R)).dot(x_cad)\n",
    "x_std = B_qr.dot(x_base_qr) + (np.eye(B_qr.shape[0]) - B_qr.dot(la.pinv(B_qr))).dot(x_cad)\n",
    "#x_std = x_cad + Rpinv.dot(x_base)\n",
    "#x_std += x_cad\n",
    "print(x_real)\n",
    "print(x_std)\n",
    "print(la.norm(x_real-x_std))\n",
    "print(a.dot(x_std))\n",
    "print(t_real)"
   ]
  },
  {
   "cell_type": "markdown",
   "metadata": {},
   "source": [
    "## Getting standard solution space\n",
    "\n",
    "Each base parameter is a linear combination of one or more std parameters. After identifying the base params, the corresponding \"true\" std params lie within the intersection of all these affine subspaces of the parameter space (all possible parameter vectors). All points in the intersection yield the same solution as the identified base parameters. Projecting the base params back with the projection matrix $B$ into this solution space works but usually gives parameters that are not close to the \"real\" values and are not physical consistent.\n",
    "It is therefore proposed to instead project an existing a priori solution to the solution space derived from the base parameter solution as it should give the closest solution that minimizes the error norm. an orthogonal projection is possible if the vector space has an inner product and is complete (is a Hilbert space). Even assuming the a priori solution is consistent, projecting it might still move the solution out of the part of the intersection subspace that is consistent. Additionally, narrowing the subspace further down to a physical consistent subspace regarding the linear constraints might be necessary to avoid this (non-linear constraints need to be checked and enforced after projecting to subspace, so some searching may be necessary). A solution close to a consistent a priori parameter vector is possibly in most cases consistent as well.\n",
    "\n",
    "For e.g. the relation $s_0 = a\\cdot s_1 + b\\cdot s_2$ ($s_i$ being elements of the unknown standard parameter vector $\\theta$),\n",
    "we want to set the $j$'th estimated value of the base parameter vector $\\theta_B$ $v_j$ equal to the grouped unknown values of $s_i$:\n",
    "$$v_j = a\\cdot s_1 + b\\cdot s_2 - s_0$$"
   ]
  },
  {
   "cell_type": "markdown",
   "metadata": {},
   "source": [
    "### Fill in equations with known identified values\n"
   ]
  },
  {
   "cell_type": "code",
   "execution_count": null,
   "metadata": {
    "collapsed": false
   },
   "outputs": [],
   "source": [
    "base_deps_vals = []\n",
    "for idx in range(0,r):\n",
    "    base_deps_vals.append(Eq(base_deps[idx], xb1[idx]))\n",
    "print(base_deps_vals)"
   ]
  },
  {
   "cell_type": "markdown",
   "metadata": {},
   "source": [
    "### Intersection of affine spaces\n",
    "\n",
    "If $A$ is a matrix and $t$ lies in its column space, the set of solutions of the equation $Ax = t$ is an affine space over the subspace of solutions of $Ax = 0$.\n",
    "An intersection $\\mathbb{A} \\cap \\mathbb{B}$ between two affine spaces $\\mathbb{A} = a_0x_0+a_1x_1+\\dots+a_nx_n$ and $\\mathbb{B} = b_0x_0+b_1x_1+\\dots+b_mx_m$ within $\\mathbb{R}^{n_\\text{std}}$ can be calculated by transposing and substituting a common variable $x_i$ of the two equations. The remaining equation will have $\\left\\vert\\{x_0\\dots x_n\\} \\cup \\{x_0\\dots x_m\\}\\right\\vert-1$ variables in case there is a common variable and the spaces are not parallel to each other (can be tested with the scalar product)\n",
    "\n",
    "* No. of dimensions of intersection: http://math.stackexchange.com/questions/1322425/dimension-of-intersection-of-hyperplanes\n",
    "* Projection on intersection with SVD (Planes given by normal vectors): http://math.stackexchange.com/questions/257330/orthogonal-projection-of-a-vector-onto-intersection-of-k-hyperplanes?rq=1\n",
    "* Algorithm: https://arxiv.org/pdf/1406.4012.pdf\n"
   ]
  },
  {
   "cell_type": "code",
   "execution_count": null,
   "metadata": {
    "collapsed": false,
    "scrolled": false
   },
   "outputs": [],
   "source": [
    "#test some intersection plotting\n",
    "from sympy.plotting import plot, plot3d, plot3d_parametric_line\n",
    "\n",
    "x0,x1,x2 = symbols('x0 x1 x2')\n",
    "p0 = 1*x0 + 0.5*x1\n",
    "p1 = -1*x0 + 4*x1\n",
    "p1_in_p0_x1 = p0.subs(x1, solve(p1, x1)[0])\n",
    "p1_in_p0_x0 = p0.subs(x0, solve(p1, x0)[0])\n",
    "print(p1_in_p0_x1)\n",
    "print(solve(p1, x0)[0])\n",
    "f1 = plot(p0, p1, (x0, -5,5), (x1, -5,5), show=False)\n",
    "#plot3d_parametric_line(p0_p1, p1_p0, 0, x0, (x0, -10, 1))\n",
    "f2 = plot3d_parametric_line(p1_in_p0_x1, solve(p1, x0)[0], x0, (x0, -1, 1), show=False)  # 3d parametric line plot\n",
    "f1.extend(f2)\n",
    "f1.show()\n",
    "#plot3d(p0_p1, (x0, -1,1), (x1, 0,0))"
   ]
  },
  {
   "cell_type": "code",
   "execution_count": null,
   "metadata": {
    "collapsed": false
   },
   "outputs": [],
   "source": [
    "print(x)\n",
    "print(base_deps_vals)\n",
    "prev_eq = base_deps_vals[0].lhs - base_deps_vals[0].rhs\n",
    "for eq in base_deps_vals[1:]:\n",
    "    print(\"intersection:\\t\", prev_eq)\n",
    "    print(eq)\n",
    "\n",
    "    #try to transpose equations to first common var\n",
    "    #and sustitute\n",
    "    first_common = None\n",
    "    for s in eq.lhs.free_symbols:\n",
    "        if s in prev_eq.free_symbols:\n",
    "            first_common = s\n",
    "            break\n",
    "    if first_common == None:\n",
    "        #no dimensions shared, so not intersecting, take next eq\n",
    "        #TODO: need to collect those and start substitution with them again\n",
    "        print(\"skipping\\n\")\n",
    "        continue\n",
    "    \n",
    "    #substitute\n",
    "    prev_eq = prev_eq.subs(first_common, solve(eq, first_common)[0])\n",
    "    print(\"substitution:\\t\", prev_eq, \"\\n\")"
   ]
  },
  {
   "cell_type": "code",
   "execution_count": null,
   "metadata": {
    "collapsed": true
   },
   "outputs": [],
   "source": []
  }
 ],
 "metadata": {
  "kernelspec": {
   "display_name": "Python 3",
   "language": "python",
   "name": "python3"
  },
  "language_info": {
   "codemirror_mode": {
    "name": "ipython",
    "version": 3
   },
   "file_extension": ".py",
   "mimetype": "text/x-python",
   "name": "python",
   "nbconvert_exporter": "python",
   "pygments_lexer": "ipython3",
   "version": "3.5.1"
  },
  "toc": {
   "toc_cell": false,
   "toc_number_sections": false,
   "toc_section_display": "none",
   "toc_threshold": 6,
   "toc_window_display": true
  },
  "toc_position": {
   "height": "314px",
   "left": "952.219px",
   "right": "20px",
   "top": "109px",
   "width": "318px"
  }
 },
 "nbformat": 4,
 "nbformat_minor": 0
}
