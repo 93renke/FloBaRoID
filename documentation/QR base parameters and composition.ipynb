{
 "cells": [
  {
   "cell_type": "markdown",
   "metadata": {},
   "source": [
    "# Base parameters and combinations with QR"
   ]
  },
  {
   "cell_type": "markdown",
   "metadata": {},
   "source": [
    "In the following, the QR decomposition is used to find columns in a matrix (e.g. dynamics regressor) that are independent and therefore are a choice of a basis for the identifiable subspace. It is then determined which linear combinations of the other dependent columns are forming the base columns/parameters in each of those. This is also necessary for the std essential parameters."
   ]
  },
  {
   "cell_type": "code",
   "execution_count": 3,
   "metadata": {
    "collapsed": false
   },
   "outputs": [],
   "source": [
    "import numpy as np; np.set_printoptions(formatter={'float': '{: 0.3f}'.format})"
   ]
  },
  {
   "cell_type": "code",
   "execution_count": 38,
   "metadata": {
    "collapsed": false
   },
   "outputs": [
    {
     "name": "stdout",
     "output_type": "stream",
     "text": [
      "(6, 6)\n"
     ]
    },
    {
     "data": {
      "text/plain": [
       "3"
      ]
     },
     "execution_count": 38,
     "metadata": {},
     "output_type": "execute_result"
    }
   ],
   "source": [
    "a = np.array([[1.0, 2.0,  .0,  .0, 2.0, 3.0],\n",
    "              [1.0, 2.0,  .0,  .0, 1.0, 3.0],\n",
    "              [ .0,  .0, 1.0, 5.0,  .0, .0],\n",
    "              [ .0,  .0, 1.0, 5.0,  .0, .0],\n",
    "              [2.0, 4.0,  .0,  .0,  .0, 6.0],\n",
    "              [ .0,  .0, 0.5, 2.5,  .0, .0]])\n",
    "print(a.shape)\n",
    "r = np.linalg.matrix_rank(a)\n",
    "r"
   ]
  },
  {
   "cell_type": "markdown",
   "metadata": {},
   "source": [
    "Test Matrix $a$ is rank deficient (rank $r<m$). The rank 3 means there are 3 sets of dependent columns, each with 1 or more columns in it. The columns $0,1$ and $2,3$ are linearly dependent. Column 4 is linearly independent from all other columns. Finding independent columns will give a single representant of each set, while the choice is non-unique if any set has more than one element. If a column is independent, there can be other columns that are dependent on it but it can also be a single element in its set.\n",
    "\n",
    "$$a\\cdot x = t$$"
   ]
  },
  {
   "cell_type": "code",
   "execution_count": 40,
   "metadata": {
    "collapsed": false
   },
   "outputs": [
    {
     "data": {
      "text/plain": [
       "array([ 20.900,  16.400,  21.798,  21.798,  23.800,  10.899])"
      ]
     },
     "execution_count": 40,
     "metadata": {},
     "output_type": "execute_result"
    }
   ],
   "source": [
    "x = np.array([1.0,2.0,0.838,4.192,4.5, 2.3])  #param\n",
    "t = a.dot(x)                         #result\n",
    "t"
   ]
  },
  {
   "cell_type": "markdown",
   "metadata": {},
   "source": [
    "## Sets of dependent columns\n",
    "\n",
    "Assuming $m \\times n$ Matrix $a$ with $m>=n$."
   ]
  },
  {
   "cell_type": "code",
   "execution_count": 45,
   "metadata": {
    "collapsed": false,
    "scrolled": true
   },
   "outputs": [
    {
     "name": "stdout",
     "output_type": "stream",
     "text": [
      "[-7.500 -7.348  1.871 -0.000  0.000 -0.000]\n",
      "[3 5 4 1 0 2]\n",
      "\n"
     ]
    }
   ],
   "source": [
    "import scipy.linalg as sla\n",
    "Qp,Rp,P = sla.qr(a, pivoting=True, check_finite=True)\n",
    "print(Rp.diagonal())\n",
    "print(P)\n",
    "print()\n",
    "#Q,R = np.linalg.qr(a, mode='complete')\n",
    "#print(R.diagonal())"
   ]
  },
  {
   "cell_type": "markdown",
   "metadata": {},
   "source": [
    "Find selection of columns that are linearly independent to each other. For non-pivoting QR, the columns in R with diagonal elements that are not zero are independent. For pivoting QR this does not work. However, as there are as many independent columns as the rank of the matrix, taking the first rank columns of the permutation also gives the independent column indices but in different order. The choices are not the same but from the same sets of dependent columns."
   ]
  },
  {
   "cell_type": "code",
   "execution_count": 47,
   "metadata": {
    "collapsed": false
   },
   "outputs": [
    {
     "name": "stdout",
     "output_type": "stream",
     "text": [
      "rank: 3\n",
      "[3 5 4]\n"
     ]
    }
   ],
   "source": [
    "tol = 1e-6\n",
    "#print(R.diagonal())\n",
    "#indepsQR = np.where(np.abs(R.diagonal()) > tol)[0]\n",
    "#print(indepsQR)\n",
    "\n",
    "print(\"rank: {}\".format(np.where(np.abs(Rp.diagonal()) > tol)[0].size ))   #rank with pivoting QR\n",
    "indepsQRP = P[0:r]\n",
    "print(indepsQRP)\n"
   ]
  },
  {
   "cell_type": "code",
   "execution_count": 48,
   "metadata": {
    "collapsed": false
   },
   "outputs": [],
   "source": [
    "#create proper permutation matrix\n",
    "Pp = np.zeros((P.size, P.size))\n",
    "for i in P:\n",
    "    Pp[i,P[i]]=1"
   ]
  },
  {
   "cell_type": "code",
   "execution_count": 49,
   "metadata": {
    "collapsed": false
   },
   "outputs": [
    {
     "name": "stdout",
     "output_type": "stream",
     "text": [
      "[[ 0.000  0.000  0.200]\n",
      " [ 0.667  0.333  0.000]\n",
      " [ 0.000  0.000 -0.000]]\n",
      "[3 5 4]\n"
     ]
    }
   ],
   "source": [
    "#Gautier 1990, 3-4: linear relationships\n",
    "W1W2 = a.dot(Pp)\n",
    "W1 = W1W2[:,0:indepsQRP.size]\n",
    "W2 = W1W2[:,indepsQRP.size:a.shape[1]]\n",
    "#Q,R = np.linalg.qr(W1W2)\n",
    "#print(Q)\n",
    "#print(R.diagonal())\n",
    "#corresponds to QR with pivoting\n",
    "#print(Qp)\n",
    "#print(Rp.diagonal())\n",
    "\n",
    "#dependent columns W1 as linear combinations of independent columns W1\n",
    "R1 = Rp[0:indepsQRP.size,0:indepsQRP.size]\n",
    "R2 = Rp[0:indepsQRP.size,indepsQRP.size:]\n",
    "linDeps = np.linalg.inv(R1).dot(R2)\n",
    "print(linDeps)\n",
    "print(indepsQRP)\n",
    "#should be equal\n",
    "#print(W2)\n",
    "#print(W1.dot(linDeps))"
   ]
  },
  {
   "cell_type": "code",
   "execution_count": 59,
   "metadata": {
    "collapsed": false
   },
   "outputs": [
    {
     "name": "stdout",
     "output_type": "stream",
     "text": [
      "P: [3 5 4 1 0 2]\n",
      "a:\n",
      " [[ 1.000  2.000  0.000  0.000  2.000  3.000]\n",
      " [ 1.000  2.000  0.000  0.000  1.000  3.000]\n",
      " [ 0.000  0.000  1.000  5.000  0.000  0.000]\n",
      " [ 0.000  0.000  1.000  5.000  0.000  0.000]\n",
      " [ 2.000  4.000  0.000  0.000  0.000  6.000]\n",
      " [ 0.000  0.000  0.500  2.500  0.000  0.000]]\n",
      "col 0 in W2(col 2 in a) is a linear combination of col 2 in W1 (col 3 in a) with factor 0.2\n",
      "col 1 in W2(col 1 in a) is a linear combination of col 0 in W1 (col 5 in a) with factor 0.6666666666666667\n",
      "col 1 in W2(col 0 in a) is a linear combination of col 1 in W1 (col 5 in a) with factor 0.33333333333333337\n"
     ]
    },
    {
     "data": {
      "text/plain": [
       "array([ 0.000,  0.000,  0.000,  0.000,  0.000,  0.000])"
      ]
     },
     "execution_count": 59,
     "metadata": {},
     "output_type": "execute_result"
    }
   ],
   "source": [
    "print(\"P:\", P)\n",
    "print(\"a:\\n\", a)\n",
    "for i in range(0,linDeps.shape[0]):\n",
    "    for j in range(0,linDeps.shape[1]):\n",
    "        if np.abs(linDeps[i,j]) > 0.1:\n",
    "            dep_org_col = P[indepsQRP.size+j]\n",
    "            indep_org_col = P[i]\n",
    "\n",
    "            print(\n",
    "                '''col {} in W2(col {} in a) is a linear combination of col {} in W1 (col {} in a) with factor {}'''\\\n",
    "                   .format(i, dep_org_col, j, indep_org_col, linDeps[i,j]))\n",
    "a[:, 5]*2/3 - a[:, 1]"
   ]
  },
  {
   "cell_type": "markdown",
   "metadata": {},
   "source": [
    "## Getting the base projection matrix\n",
    "\n",
    "The first $r$ orthogonal columns of $Q$ form a basis $B$ of the column space of $A$ in case a is a square matrix. In the rectangular case, the QR decomposition of $A^T$ seems to be possible but maybe not always solvable?. \n",
    "$B$ can be used to project the matrix $A$ with regard to a vector $v$ to a matrix $A_\\text{base}$ with regard to a vector $v_\\text{base}$."
   ]
  },
  {
   "cell_type": "code",
   "execution_count": 60,
   "metadata": {
    "collapsed": false
   },
   "outputs": [
    {
     "name": "stdout",
     "output_type": "stream",
     "text": [
      "[[-0.267  0.000 -0.000 -0.535 -0.799 -0.067]\n",
      " [-0.535  0.000 -0.000  0.775 -0.337 -0.028]\n",
      " [-0.000 -0.196  0.000  0.000  0.081 -0.977]\n",
      " [-0.000 -0.981 -0.000  0.000 -0.016  0.195]\n",
      " [-0.000 -0.000 -1.000  0.000  0.000  0.000]\n",
      " [-0.802 -0.000  0.000 -0.338  0.491  0.041]]\n",
      "[[ 0.267 -0.000  0.000]\n",
      " [ 0.535 -0.000  0.000]\n",
      " [ 0.000  0.196 -0.000]\n",
      " [ 0.000  0.981  0.000]\n",
      " [ 0.000  0.000  1.000]\n",
      " [ 0.802  0.000 -0.000]]\n"
     ]
    }
   ],
   "source": [
    "Qpt,Rpt,Pt = sla.qr(a.T, pivoting=True, mode='economic')\n",
    "print(Qpt)\n",
    "B = -Qpt[:, 0:r]\n",
    "print(B)\n",
    "#B = sla.orth(a)[0:a.shape[1], :]\n",
    "#print(B)"
   ]
  },
  {
   "cell_type": "markdown",
   "metadata": {},
   "source": [
    "$Pp^T XB = [XB1 ; XB2] = [X1 + X1^{-1}R2 X2;0]$"
   ]
  },
  {
   "cell_type": "code",
   "execution_count": 61,
   "metadata": {
    "collapsed": false
   },
   "outputs": [
    {
     "name": "stdout",
     "output_type": "stream",
     "text": [
      "[3 5 4 1 0 2]\n",
      "x:\t [ 1.000  2.000  0.838  4.192  4.500  2.300]\n",
      "x1, x2:\t [ 4.192  2.300  4.500] [ 2.000  1.000  0.838]\n",
      "[ 4.360  3.967  4.500]\n"
     ]
    }
   ],
   "source": [
    "print(P)\n",
    "Px = Pp.dot(x)\n",
    "print('x:\\t', x)\n",
    "x1 = Px[0:r]\n",
    "x2 = Px[r:]\n",
    "print ('x1, x2:\\t', x1, x2)\n",
    "xb1 = x1 + np.linalg.inv(R1).dot(R2.dot(x2))\n",
    "print (xb1)"
   ]
  },
  {
   "cell_type": "code",
   "execution_count": 299,
   "metadata": {
    "collapsed": false
   },
   "outputs": [
    {
     "name": "stdout",
     "output_type": "stream",
     "text": [
      "x_base:\t [ 4.275  2.236  4.500]\n",
      "deps:\n",
      "3, \n",
      "1, \n",
      "4, \n",
      "t:\t [ 14.000  9.500  21.798  21.798  10.000  10.899]\n",
      "t_base:\t [ 14.000  9.500  21.798  21.798  10.000  10.899]\n",
      "x:\t [ 1.000  2.000  0.838  4.192  4.500]\n",
      "x*:\t [ 1.000  2.000  0.838  4.192  4.500]\n",
      "[[-0.000  0.000 -0.000 -0.000  0.000]\n",
      " [-0.000  0.000 -0.000 -0.000  0.000]\n",
      " [-0.000 -0.000 -0.000 -0.000  0.000]\n",
      " [-0.000 -0.000 -0.000 -0.000  0.000]\n",
      " [ 0.000  0.000 -0.000 -0.000  0.000]\n",
      " [-0.000 -0.000 -0.000 -0.000  0.000]]\n"
     ]
    }
   ],
   "source": [
    "a_base = a.dot(B)\n",
    "x_base = B.T.dot(x)\n",
    "print('x_base:\\t', x_base)\n",
    "print(\"deps:\")\n",
    "for i in range(0, len(x_base)):\n",
    "    print(\"{}, \".format(indepsQRP[i], deps[i]))\n",
    "t_base = a_base.dot(x_base)\n",
    "print('t:\\t', t)\n",
    "print('t_base:\\t', t_base)\n",
    "print('x:\\t', x)\n",
    "print ('x*:\\t', B.dot(x_base))    #should give same x as in standard space if x was fully in base space already\n",
    "\n",
    "# test nullspace\n",
    "print(a.dot(np.eye(5) - B.dot(B.T)))"
   ]
  },
  {
   "cell_type": "code",
   "execution_count": 62,
   "metadata": {
    "collapsed": false
   },
   "outputs": [
    {
     "name": "stdout",
     "output_type": "stream",
     "text": [
      "[[ 0.000  0.250  0.000]\n",
      " [ 1.000  0.000  0.500]\n",
      " [-0.000  0.500 -0.000]]\n"
     ]
    }
   ],
   "source": [
    "deps = np.linalg.inv(Rpt[0:r, 0:r]).dot(Rpt[0:r, r:])\n",
    "print(deps)"
   ]
  },
  {
   "cell_type": "markdown",
   "metadata": {
    "collapsed": true
   },
   "source": [
    "### Base Projection with SVD"
   ]
  },
  {
   "cell_type": "code",
   "execution_count": 63,
   "metadata": {
    "collapsed": false
   },
   "outputs": [
    {
     "name": "stdout",
     "output_type": "stream",
     "text": [
      "[[-0.430  0.000 -0.790  0.436  0.000  0.000]\n",
      " [-0.416  0.000 -0.256 -0.873  0.000  0.000]\n",
      " [ 0.000 -0.667  0.000  0.000  0.596 -0.447]\n",
      " [ 0.000 -0.667  0.000  0.000 -0.745 -0.000]\n",
      " [-0.801  0.000  0.557  0.218  0.000  0.000]\n",
      " [ 0.000 -0.333  0.000  0.000  0.298  0.894]]\n",
      "[[-0.265 -0.529  0.000  0.000 -0.138 -0.794]\n",
      " [-0.000 -0.000 -0.196 -0.981 -0.000  0.000]\n",
      " [ 0.037  0.074  0.000  0.000 -0.990  0.111]\n",
      " [-0.964  0.148  0.000  0.000 -0.000  0.222]\n",
      " [ 0.000 -0.395 -0.863  0.173 -0.000  0.263]\n",
      " [ 0.000 -0.732  0.465 -0.093  0.000  0.488]]\n"
     ]
    },
    {
     "data": {
      "text/plain": [
       "3"
      ]
     },
     "execution_count": 63,
     "metadata": {},
     "output_type": "execute_result"
    }
   ],
   "source": [
    "U, s, Vh = sla.svd(a, full_matrices=False)\n",
    "print(U)\n",
    "print(Vh)\n",
    "np.sum(s>0.001)"
   ]
  },
  {
   "cell_type": "code",
   "execution_count": 64,
   "metadata": {
    "collapsed": false
   },
   "outputs": [
    {
     "data": {
      "text/plain": [
       "array([[ 0.267, -0.000,  0.000],\n",
       "       [ 0.535, -0.000,  0.000],\n",
       "       [ 0.000,  0.196, -0.000],\n",
       "       [ 0.000,  0.981,  0.000],\n",
       "       [ 0.000,  0.000,  1.000],\n",
       "       [ 0.802,  0.000, -0.000]])"
      ]
     },
     "execution_count": 64,
     "metadata": {},
     "output_type": "execute_result"
    }
   ],
   "source": [
    "# QR base for comparison\n",
    "B"
   ]
  },
  {
   "cell_type": "code",
   "execution_count": 65,
   "metadata": {
    "collapsed": false
   },
   "outputs": [
    {
     "data": {
      "text/plain": [
       "array([[ 0.265,  0.000, -0.037],\n",
       "       [ 0.529,  0.000, -0.074],\n",
       "       [-0.000,  0.196, -0.000],\n",
       "       [-0.000,  0.981, -0.000],\n",
       "       [ 0.138,  0.000,  0.990],\n",
       "       [ 0.794, -0.000, -0.111]])"
      ]
     },
     "execution_count": 65,
     "metadata": {},
     "output_type": "execute_result"
    }
   ],
   "source": [
    "B_svd = -Vh.T[:, 0:r]\n",
    "B = B_svd\n",
    "B"
   ]
  },
  {
   "cell_type": "code",
   "execution_count": null,
   "metadata": {
    "collapsed": true
   },
   "outputs": [],
   "source": []
  }
 ],
 "metadata": {
  "kernelspec": {
   "display_name": "Python 3",
   "language": "python",
   "name": "python3"
  },
  "language_info": {
   "codemirror_mode": {
    "name": "ipython",
    "version": 3
   },
   "file_extension": ".py",
   "mimetype": "text/x-python",
   "name": "python",
   "nbconvert_exporter": "python",
   "pygments_lexer": "ipython3",
   "version": "3.5.1"
  },
  "toc": {
   "toc_cell": false,
   "toc_number_sections": false,
   "toc_section_display": "none",
   "toc_threshold": 6,
   "toc_window_display": false
  }
 },
 "nbformat": 4,
 "nbformat_minor": 0
}
