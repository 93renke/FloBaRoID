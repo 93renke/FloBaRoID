{
 "cells": [
  {
   "cell_type": "markdown",
   "metadata": {},
   "source": [
    "# Base parameters and combinations with QR"
   ]
  },
  {
   "cell_type": "markdown",
   "metadata": {},
   "source": [
    "In the following, the QR decomposition is used to find columns in a matrix (e.g. dynamics regressor) that are independent and therefore are a choice of a basis for the identifiable subspace. It is then determined which linear combinations of the other dependent columns are forming the base columns/parameters in each of those. This is also necessary for the std essential parameters."
   ]
  },
  {
   "cell_type": "code",
   "execution_count": 2,
   "metadata": {
    "collapsed": false
   },
   "outputs": [],
   "source": [
    "import numpy as np; np.set_printoptions(formatter={'float': '{: 0.2f}'.format})"
   ]
  },
  {
   "cell_type": "code",
   "execution_count": 3,
   "metadata": {
    "collapsed": false
   },
   "outputs": [
    {
     "name": "stdout",
     "output_type": "stream",
     "text": [
      "(6, 5)\n"
     ]
    },
    {
     "data": {
      "text/plain": [
       "3"
      ]
     },
     "execution_count": 3,
     "metadata": {},
     "output_type": "execute_result"
    }
   ],
   "source": [
    "a = np.array([[1.0, 2.0,  .0,  .0, 2.0],\n",
    "              [1.0, 2.0,  .0,  .0, 1.0],\n",
    "              [ .0,  .0, 1.0, 5.0,  .0],\n",
    "              [ .0,  .0, 1.0, 5.0,  .0],\n",
    "              [2.0, 4.0,  .0,  .0,  .0],\n",
    "              [ .0,  .0, 0.5, 2.5,  .0]])\n",
    "print(a.shape)\n",
    "r = np.linalg.matrix_rank(a)\n",
    "r"
   ]
  },
  {
   "cell_type": "markdown",
   "metadata": {},
   "source": [
    "Test Matrix $a$ is rank deficient (rank $r<m$). The rank 3 means there are 3 sets of dependent columns, each with 1 or more columns in it. The columns $0,1$ and $2,3$ are linearly dependent. Column 4 is linearly independent from all other columns. Finding independent columns will give a single representant of each set, while the choice is non-unique if any set has more than one element. If a column is independent, there can be other columns that are dependent on it but it can also be a single element in its set.\n",
    "\n",
    "$$a\\cdot x = t$$"
   ]
  },
  {
   "cell_type": "code",
   "execution_count": 4,
   "metadata": {
    "collapsed": false
   },
   "outputs": [
    {
     "data": {
      "text/plain": [
       "array([ 15.00,  10.00,  23.00,  23.00,  10.00,  11.50])"
      ]
     },
     "execution_count": 4,
     "metadata": {},
     "output_type": "execute_result"
    }
   ],
   "source": [
    "x = np.array([1.0,2.0,3.0,4.0,5.0])  #param\n",
    "t = a.dot(x)                         #result\n",
    "t"
   ]
  },
  {
   "cell_type": "markdown",
   "metadata": {},
   "source": [
    "## Sets of dependent columns\n",
    "\n",
    "Assuming $m \\times n$ Matrix $a$ with $m>=n$."
   ]
  },
  {
   "cell_type": "code",
   "execution_count": 5,
   "metadata": {
    "collapsed": false,
    "scrolled": true
   },
   "outputs": [
    {
     "name": "stdout",
     "output_type": "stream",
     "text": [
      "[-7.50 -4.90  1.87 -0.00 -0.00]\n",
      "[3 1 4 0 2]\n",
      "\n",
      "[-2.45  0.00 -1.50  0.00 -0.89]\n"
     ]
    }
   ],
   "source": [
    "import scipy.linalg as sla\n",
    "Qp,Rp,P = sla.qr(a, pivoting=True, check_finite=True)\n",
    "print(Rp.diagonal())\n",
    "print(P)\n",
    "print()\n",
    "Q,R = np.linalg.qr(a, mode='complete')\n",
    "print(R.diagonal())"
   ]
  },
  {
   "cell_type": "markdown",
   "metadata": {},
   "source": [
    "Find columns that are linearly independent. For non-pivoting QR, the columns in R with diagonal elements that are not zero are independent. For pivoting QR this does not work. However, as there are as many independent columns as the rank of the matrix, taking the first rank columns of the permutation also gives the independent column indices but in different order. The choices are not the same but from the same sets."
   ]
  },
  {
   "cell_type": "code",
   "execution_count": 6,
   "metadata": {
    "collapsed": false
   },
   "outputs": [
    {
     "name": "stdout",
     "output_type": "stream",
     "text": [
      "[-2.45  0.00 -1.50  0.00 -0.89]\n",
      "[0 2 4]\n",
      "3\n",
      "[3 1 4]\n"
     ]
    }
   ],
   "source": [
    "tol = 1e-6\n",
    "print(R.diagonal())\n",
    "indepsQR = np.where(np.abs(R.diagonal()) > tol)[0]\n",
    "print(indepsQR)\n",
    "\n",
    "print(np.where(np.abs(Rp.diagonal()) > tol)[0].size)   #rank with pivoting QR\n",
    "indepsQRP = P[0:r]\n",
    "print(indepsQRP)\n"
   ]
  },
  {
   "cell_type": "code",
   "execution_count": 7,
   "metadata": {
    "collapsed": false
   },
   "outputs": [],
   "source": [
    "#create proper permutation matrix\n",
    "Pp = np.zeros((P.size, P.size))\n",
    "for i in P:\n",
    "    Pp[i,P[i]]=1"
   ]
  },
  {
   "cell_type": "code",
   "execution_count": 8,
   "metadata": {
    "collapsed": false
   },
   "outputs": [
    {
     "name": "stdout",
     "output_type": "stream",
     "text": [
      "[[ 0.00  0.20]\n",
      " [ 0.50  0.00]\n",
      " [ 0.00 -0.00]]\n"
     ]
    }
   ],
   "source": [
    "#Gautier 1990, 3-4: linear relationships\n",
    "#W1W2 = a.dot(Pp)\n",
    "#W1 = W1W2[:,0:indeps.size]\n",
    "#W2 = W1W2[:,indeps.size:a.shape[1]]\n",
    "#Q,R = np.linalg.qr(W1W2)\n",
    "#print(Q)\n",
    "#print(R.diagonal())\n",
    "#corresponds to QR with pivoting\n",
    "#print(Qp)\n",
    "#print(Rp.diagonal())\n",
    "\n",
    "#dependent columns W1 as linear combinations of independent columns W1\n",
    "R1 = Rp[0:indepsQRP.size,0:indepsQRP.size]\n",
    "R2 = Rp[0:indepsQRP.size,indepsQRP.size:]\n",
    "linDeps = np.linalg.inv(R1).dot(R2)\n",
    "print(linDeps)"
   ]
  },
  {
   "cell_type": "code",
   "execution_count": 9,
   "metadata": {
    "collapsed": false
   },
   "outputs": [
    {
     "name": "stdout",
     "output_type": "stream",
     "text": [
      "[3 1 4 0 2]\n",
      "col 0 in W2(col 0 in a) is a linear combination of col 1 in W1 (col 1 in a)\n",
      "col 1 in W2(col 2 in a) is a linear combination of col 0 in W1 (col 3 in a)\n"
     ]
    }
   ],
   "source": [
    "print(P)\n",
    "for i in range(0,linDeps.shape[0]):\n",
    "    for j in range(0,linDeps.shape[1]):\n",
    "        if np.abs(linDeps[i,j]) > tol:\n",
    "            orgColi = P[indepsQRP.size+i]\n",
    "            orgColj = P[j]\n",
    "            print(\n",
    "                '''col {} in W2(col {} in a) is a linear combination of col {} in W1 (col {} in a)'''\\\n",
    "                   .format(i, orgColi, j, orgColj))"
   ]
  },
  {
   "cell_type": "markdown",
   "metadata": {},
   "source": [
    "## Getting the base projection matrix\n",
    "\n",
    "The first $r$ orthogonal columns of $Q$ form a basis $B$ of the column space of $A$ in case a is a square matrix. In the rectangular case, the QR decomposition of $A^T$ seems to be possible but maybe not always solvable?. \n",
    "$B$ can be used to project the matrix $A$ with regard to a vector $v$ to a matrix $A_\\text{base}$ with regard to a vector $v_\\text{base}$."
   ]
  },
  {
   "cell_type": "code",
   "execution_count": 21,
   "metadata": {
    "collapsed": false
   },
   "outputs": [
    {
     "name": "stdout",
     "output_type": "stream",
     "text": [
      "[[ 0.00 -0.45 -0.00  0.89  0.00]\n",
      " [-0.00 -0.89  0.00 -0.45 -0.00]\n",
      " [-0.20 -0.00 -0.00  0.00 -0.98]\n",
      " [-0.98 -0.00  0.00  0.00  0.20]\n",
      " [-0.00 -0.00 -1.00  0.00  0.00]]\n",
      "[[ 0.00 -0.45 -0.00]\n",
      " [-0.00 -0.89  0.00]\n",
      " [-0.20 -0.00 -0.00]\n",
      " [-0.98 -0.00  0.00]\n",
      " [-0.00 -0.00 -1.00]]\n"
     ]
    }
   ],
   "source": [
    "Qp,Rp,P = sla.qr(a.T, pivoting=True, mode='economic')\n",
    "print(Qp)\n",
    "B = Qp[:, 0:r]\n",
    "print(B)\n",
    "#B = sla.orth(a)[0:a.shape[1], :]\n",
    "#print(B)"
   ]
  },
  {
   "cell_type": "markdown",
   "metadata": {},
   "source": [
    "$Pp^T XB = [XB1 ; XB2] = [X1 + X1^{-1}R2 X2;0]$"
   ]
  },
  {
   "cell_type": "code",
   "execution_count": 23,
   "metadata": {
    "collapsed": false
   },
   "outputs": [
    {
     "name": "stdout",
     "output_type": "stream",
     "text": [
      "[2 4 0 3 1 5]\n",
      "x:\t [ 1.00  2.00  3.00  4.00  5.00]\n",
      "x1, x2:\t [ 4.00  2.00  5.00] [ 1.00  3.00]\n",
      "[ 4.60  2.50  5.00]\n"
     ]
    }
   ],
   "source": [
    "print(P)\n",
    "Px = Pp.dot(x)\n",
    "print('x:\\t', x)\n",
    "x1 = Px[0:r]\n",
    "x2 = Px[r:]\n",
    "print ('x1, x2:\\t', x1, x2)\n",
    "xb1 = x1 + np.linalg.inv(R1).dot(R2.dot(x2))\n",
    "print (xb1)"
   ]
  },
  {
   "cell_type": "code",
   "execution_count": 22,
   "metadata": {
    "collapsed": false
   },
   "outputs": [
    {
     "name": "stdout",
     "output_type": "stream",
     "text": [
      "x_base:\t [-4.51 -2.24 -5.00]\n",
      "t_base:\t [ 15.00  10.00  23.00  23.00  10.00  11.50]\n",
      "t:\t [ 15.00  10.00  23.00  23.00  10.00  11.50]\n",
      "x*:\t [ 1.00  2.00  0.88  4.42  5.00]\n",
      "x:\t [ 1.00  2.00  3.00  4.00  5.00]\n",
      "[[-0.00  0.00 -0.00 -0.00  0.00]\n",
      " [-0.00  0.00 -0.00 -0.00  0.00]\n",
      " [-0.00 -0.00 -0.00 -0.00  0.00]\n",
      " [-0.00 -0.00 -0.00 -0.00  0.00]\n",
      " [ 0.00  0.00 -0.00 -0.00  0.00]\n",
      " [-0.00 -0.00 -0.00 -0.00  0.00]]\n"
     ]
    }
   ],
   "source": [
    "a_base = a.dot(B)\n",
    "x_base = B.T.dot(x)\n",
    "print('x_base:\\t', x_base)\n",
    "t_base = a_base.dot(x_base)\n",
    "print('t_base:\\t', t_base)\n",
    "print('t:\\t', t)\n",
    "print ('x*:\\t', B.dot(x_base))    #should give same x as in standard space\n",
    "print('x:\\t', x)\n",
    "\n",
    "print(a.dot(np.eye(5) - B.dot(B.T)))"
   ]
  },
  {
   "cell_type": "code",
   "execution_count": null,
   "metadata": {
    "collapsed": true
   },
   "outputs": [],
   "source": []
  }
 ],
 "metadata": {
  "kernelspec": {
   "display_name": "Python 3",
   "language": "python",
   "name": "python3"
  },
  "language_info": {
   "codemirror_mode": {
    "name": "ipython",
    "version": 3
   },
   "file_extension": ".py",
   "mimetype": "text/x-python",
   "name": "python",
   "nbconvert_exporter": "python",
   "pygments_lexer": "ipython3",
   "version": "3.5.1"
  },
  "toc": {
   "toc_cell": false,
   "toc_number_sections": false,
   "toc_section_display": "none",
   "toc_threshold": 6,
   "toc_window_display": false
  }
 },
 "nbformat": 4,
 "nbformat_minor": 0
}
